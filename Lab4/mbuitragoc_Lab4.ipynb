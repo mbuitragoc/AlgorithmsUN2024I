{
  "cells": [
    {
      "cell_type": "markdown",
      "metadata": {
        "id": "view-in-github",
        "colab_type": "text"
      },
      "source": [
        "<a href=\"https://colab.research.google.com/github/mbuitragoc/AlgorithmsUN2024I/blob/main/Lab4/mbuitragoc_Lab4.ipynb\" target=\"_parent\"><img src=\"https://colab.research.google.com/assets/colab-badge.svg\" alt=\"Open In Colab\"/></a>"
      ]
    },
    {
      "cell_type": "code",
      "execution_count": null,
      "metadata": {
        "id": "im-VVd1__7VU",
        "colab": {
          "base_uri": "https://localhost:8080/"
        },
        "outputId": "f81160bf-1416-40be-bc48-caf5ae3e325e"
      },
      "outputs": [
        {
          "output_type": "stream",
          "name": "stdout",
          "text": [
            "processor\t: 0\n",
            "vendor_id\t: GenuineIntel\n",
            "cpu family\t: 6\n",
            "model\t\t: 79\n",
            "model name\t: Intel(R) Xeon(R) CPU @ 2.20GHz\n",
            "stepping\t: 0\n",
            "microcode\t: 0xffffffff\n",
            "cpu MHz\t\t: 2199.998\n",
            "cache size\t: 56320 KB\n",
            "physical id\t: 0\n",
            "siblings\t: 2\n",
            "core id\t\t: 0\n",
            "cpu cores\t: 1\n",
            "apicid\t\t: 0\n",
            "initial apicid\t: 0\n",
            "fpu\t\t: yes\n",
            "fpu_exception\t: yes\n",
            "cpuid level\t: 13\n",
            "wp\t\t: yes\n",
            "flags\t\t: fpu vme de pse tsc msr pae mce cx8 apic sep mtrr pge mca cmov pat pse36 clflush mmx fxsr sse sse2 ss ht syscall nx pdpe1gb rdtscp lm constant_tsc rep_good nopl xtopology nonstop_tsc cpuid tsc_known_freq pni pclmulqdq ssse3 fma cx16 pcid sse4_1 sse4_2 x2apic movbe popcnt aes xsave avx f16c rdrand hypervisor lahf_lm abm 3dnowprefetch invpcid_single ssbd ibrs ibpb stibp fsgsbase tsc_adjust bmi1 hle avx2 smep bmi2 erms invpcid rtm rdseed adx smap xsaveopt arat md_clear arch_capabilities\n",
            "bugs\t\t: cpu_meltdown spectre_v1 spectre_v2 spec_store_bypass l1tf mds swapgs taa mmio_stale_data retbleed\n",
            "bogomips\t: 4399.99\n",
            "clflush size\t: 64\n",
            "cache_alignment\t: 64\n",
            "address sizes\t: 46 bits physical, 48 bits virtual\n",
            "power management:\n",
            "\n",
            "processor\t: 1\n",
            "vendor_id\t: GenuineIntel\n",
            "cpu family\t: 6\n",
            "model\t\t: 79\n",
            "model name\t: Intel(R) Xeon(R) CPU @ 2.20GHz\n",
            "stepping\t: 0\n",
            "microcode\t: 0xffffffff\n",
            "cpu MHz\t\t: 2199.998\n",
            "cache size\t: 56320 KB\n",
            "physical id\t: 0\n",
            "siblings\t: 2\n",
            "core id\t\t: 0\n",
            "cpu cores\t: 1\n",
            "apicid\t\t: 1\n",
            "initial apicid\t: 1\n",
            "fpu\t\t: yes\n",
            "fpu_exception\t: yes\n",
            "cpuid level\t: 13\n",
            "wp\t\t: yes\n",
            "flags\t\t: fpu vme de pse tsc msr pae mce cx8 apic sep mtrr pge mca cmov pat pse36 clflush mmx fxsr sse sse2 ss ht syscall nx pdpe1gb rdtscp lm constant_tsc rep_good nopl xtopology nonstop_tsc cpuid tsc_known_freq pni pclmulqdq ssse3 fma cx16 pcid sse4_1 sse4_2 x2apic movbe popcnt aes xsave avx f16c rdrand hypervisor lahf_lm abm 3dnowprefetch invpcid_single ssbd ibrs ibpb stibp fsgsbase tsc_adjust bmi1 hle avx2 smep bmi2 erms invpcid rtm rdseed adx smap xsaveopt arat md_clear arch_capabilities\n",
            "bugs\t\t: cpu_meltdown spectre_v1 spectre_v2 spec_store_bypass l1tf mds swapgs taa mmio_stale_data retbleed\n",
            "bogomips\t: 4399.99\n",
            "clflush size\t: 64\n",
            "cache_alignment\t: 64\n",
            "address sizes\t: 46 bits physical, 48 bits virtual\n",
            "power management:\n",
            "\n"
          ]
        }
      ],
      "source": [
        "!cat /proc/cpuinfo"
      ]
    },
    {
      "cell_type": "markdown",
      "metadata": {
        "id": "N1ok_-56OjB1"
      },
      "source": [
        "# I Solving the Sum of Two Digits Programming Challenge"
      ]
    },
    {
      "cell_type": "markdown",
      "metadata": {
        "id": "MMY7kmDSO0KM"
      },
      "source": [
        "## C++"
      ]
    },
    {
      "cell_type": "code",
      "execution_count": null,
      "metadata": {
        "colab": {
          "base_uri": "https://localhost:8080/"
        },
        "id": "2pGGf9BkPNIk",
        "outputId": "121ffe44-0912-4038-b724-38854c507a8a"
      },
      "outputs": [
        {
          "output_type": "stream",
          "name": "stdout",
          "text": [
            "Writing APlusB.cpp\n"
          ]
        }
      ],
      "source": [
        "%%writefile APlusB.cpp\n",
        "#include <iostream>\n",
        "\n",
        "int sum_of_two_digits(int first_digit, int second_digit) {\n",
        "    return first_digit + second_digit;\n",
        "}\n",
        "\n",
        "int main() {\n",
        "    int a = 0;\n",
        "    int b = 0;\n",
        "    std::cin >> a;\n",
        "    std::cin >> b;\n",
        "    std::cout << sum_of_two_digits(a, b);\n",
        "    return 0;\n",
        "}"
      ]
    },
    {
      "cell_type": "code",
      "execution_count": null,
      "metadata": {
        "colab": {
          "base_uri": "https://localhost:8080/"
        },
        "id": "0G3ZKOYAPXSU",
        "outputId": "ec614ae8-12de-416a-faf5-3d6b0fe9dd95"
      },
      "outputs": [
        {
          "output_type": "stream",
          "name": "stdout",
          "text": [
            "^C\n"
          ]
        }
      ],
      "source": [
        "!g++ APlusB.cpp -o APlusB -std=c++11\n",
        "!./APlusB"
      ]
    },
    {
      "cell_type": "markdown",
      "metadata": {
        "id": "iNkG2HqfTl9c"
      },
      "source": [
        "### Test input output files"
      ]
    },
    {
      "cell_type": "code",
      "execution_count": null,
      "metadata": {
        "colab": {
          "base_uri": "https://localhost:8080/"
        },
        "id": "aTzU2efzMxly",
        "outputId": "78c74ce4-bf2d-4f23-847d-0587f00a060f"
      },
      "outputs": [
        {
          "output_type": "stream",
          "name": "stdout",
          "text": [
            "Overwriting input1.txt\n"
          ]
        }
      ],
      "source": [
        "%%writefile input1.txt\n",
        "4 8"
      ]
    },
    {
      "cell_type": "code",
      "execution_count": null,
      "metadata": {
        "colab": {
          "base_uri": "https://localhost:8080/"
        },
        "id": "zBJ0Gc0NQRet",
        "outputId": "72415769-b371-4542-b836-52cbeaaee9b0"
      },
      "outputs": [
        {
          "output_type": "stream",
          "name": "stdout",
          "text": [
            "Writing output1.txt\n"
          ]
        }
      ],
      "source": [
        "%%writefile output1.txt\n",
        "12"
      ]
    },
    {
      "cell_type": "code",
      "execution_count": null,
      "metadata": {
        "colab": {
          "base_uri": "https://localhost:8080/"
        },
        "id": "IjEcIx63PJAN",
        "outputId": "001ab9a0-602f-4597-8d41-5761509105e4"
      },
      "outputs": [
        {
          "output_type": "stream",
          "name": "stdout",
          "text": [
            "Writing input2.txt\n"
          ]
        }
      ],
      "source": [
        "%%writefile input2.txt\n",
        "0 9"
      ]
    },
    {
      "cell_type": "code",
      "execution_count": null,
      "metadata": {
        "colab": {
          "base_uri": "https://localhost:8080/"
        },
        "id": "Up9gOrxURTmd",
        "outputId": "bbd28d49-7d9e-4765-e366-748493d8b390"
      },
      "outputs": [
        {
          "output_type": "stream",
          "name": "stdout",
          "text": [
            "Writing output2.txt\n"
          ]
        }
      ],
      "source": [
        "%%writefile output2.txt\n",
        "9"
      ]
    },
    {
      "cell_type": "code",
      "execution_count": null,
      "metadata": {
        "colab": {
          "base_uri": "https://localhost:8080/"
        },
        "id": "PST6G-s-Pwgc",
        "outputId": "a6885a6c-7bf0-4260-fad0-30a29534518a"
      },
      "outputs": [
        {
          "output_type": "stream",
          "name": "stdout",
          "text": [
            "12"
          ]
        }
      ],
      "source": [
        "!./APlusB < input1.txt"
      ]
    },
    {
      "cell_type": "code",
      "execution_count": null,
      "metadata": {
        "colab": {
          "base_uri": "https://localhost:8080/"
        },
        "id": "cKxZOjSlRfIN",
        "outputId": "a3b08afb-240e-4e0d-f1e4-a50074e6cfd8"
      },
      "outputs": [
        {
          "output_type": "stream",
          "name": "stdout",
          "text": [
            "9"
          ]
        }
      ],
      "source": [
        "!./APlusB < input2.txt"
      ]
    },
    {
      "cell_type": "markdown",
      "metadata": {
        "id": "Qw2TQWCCUwqk"
      },
      "source": [
        "### Comparing files with grep\n",
        "\n",
        "https://askubuntu.com/questions/546796/comparing-two-text-files"
      ]
    },
    {
      "cell_type": "code",
      "execution_count": null,
      "metadata": {
        "id": "WVIaAmMKU4QM"
      },
      "outputs": [],
      "source": [
        "!grep -xvFf output1.txt output1.txt"
      ]
    },
    {
      "cell_type": "code",
      "execution_count": null,
      "metadata": {
        "id": "MQU8gPPjQuYO",
        "colab": {
          "base_uri": "https://localhost:8080/"
        },
        "outputId": "c82daab9-9443-48b6-9108-9859741b3ff0"
      },
      "outputs": [
        {
          "output_type": "stream",
          "name": "stdout",
          "text": [
            "9\n"
          ]
        }
      ],
      "source": [
        "!grep -xvFf output1.txt output2.txt"
      ]
    },
    {
      "cell_type": "code",
      "execution_count": null,
      "metadata": {
        "colab": {
          "base_uri": "https://localhost:8080/"
        },
        "id": "jYL9OuYBTD_l",
        "outputId": "ac7914b2-1662-430c-b48e-1db6ef8e3be5"
      },
      "outputs": [
        {
          "output_type": "stream",
          "name": "stdout",
          "text": [
            "12\n"
          ]
        }
      ],
      "source": [
        "!grep -xvFf output2.txt output1.txt"
      ]
    },
    {
      "cell_type": "code",
      "execution_count": null,
      "metadata": {
        "id": "Jlja0Xm4TX9M"
      },
      "outputs": [],
      "source": [
        "!./APlusB < input1.txt> ctest1.txt\n",
        "!grep -xvFf output1.txt ctest1.txt"
      ]
    },
    {
      "cell_type": "code",
      "execution_count": null,
      "metadata": {
        "id": "g9OIUZA_QLCQ"
      },
      "outputs": [],
      "source": [
        "!./APlusB < input2.txt > ctest2.txt\n",
        "!grep -xvFf output2.txt ctest2.txt"
      ]
    },
    {
      "cell_type": "markdown",
      "metadata": {
        "id": "3BgOaDjUVJk6"
      },
      "source": [
        "## Python"
      ]
    },
    {
      "cell_type": "code",
      "execution_count": null,
      "metadata": {
        "colab": {
          "base_uri": "https://localhost:8080/"
        },
        "id": "DBvl-T0CTN_8",
        "outputId": "1495e58e-c678-4f1d-a56e-2ddc35253308"
      },
      "outputs": [
        {
          "output_type": "stream",
          "name": "stdout",
          "text": [
            "Writing sum.py\n"
          ]
        }
      ],
      "source": [
        "%%writefile sum.py\n",
        "# python3\n",
        "\n",
        "def sum_of_two_digits(first_digit, second_digit):\n",
        "    return first_digit + second_digit\n",
        "\n",
        "if __name__ == '__main__':\n",
        "    a, b = map(int, input().split())\n",
        "    print(sum_of_two_digits(a, b))"
      ]
    },
    {
      "cell_type": "code",
      "execution_count": null,
      "metadata": {
        "colab": {
          "base_uri": "https://localhost:8080/"
        },
        "id": "QKoKM11_WGyF",
        "outputId": "b8cc71d2-3e86-4aa0-f5e9-e756b5fb507f"
      },
      "outputs": [
        {
          "output_type": "stream",
          "name": "stdout",
          "text": [
            "4 7\n",
            "11\n"
          ]
        }
      ],
      "source": [
        "!python sum.py"
      ]
    },
    {
      "cell_type": "code",
      "execution_count": null,
      "metadata": {
        "id": "cocFbPRTWrqt"
      },
      "outputs": [],
      "source": [
        "!python sum.py  < input1.txt> ptest1.txt\n",
        "!grep -xvFf output1.txt ptest1.txt"
      ]
    },
    {
      "cell_type": "code",
      "execution_count": null,
      "metadata": {
        "id": "MorKTa-XXASN"
      },
      "outputs": [],
      "source": [
        "!python sum.py  < input2.txt> ptest2.txt\n",
        "!grep -xvFf output2.txt ptest2.txt"
      ]
    },
    {
      "cell_type": "markdown",
      "metadata": {
        "id": "uvP-mOubW_5F"
      },
      "source": [
        "# II Solving The Maximum Pairwise Product Programming Challenge in C++"
      ]
    },
    {
      "cell_type": "markdown",
      "metadata": {
        "id": "C12yoFR6Xonl"
      },
      "source": [
        "## C++\n",
        "\n",
        "$$ T(n) < 6 n^2 = O(n^2)$$"
      ]
    },
    {
      "cell_type": "code",
      "source": [
        "%%writefile max_pairwise_product_full.cpp\n",
        "#include <iostream>\n",
        "#include <vector>\n",
        "#include <algorithm>\n",
        "\n",
        "int MaxPairwiseProduct(const std::vector<int>& numbers) {\n",
        "    int max_product = 0;\n",
        "    int aux_product = 0;\n",
        "    int n = numbers.size();\n",
        "\n",
        "    for (int first = 0; first < n; ++first) {\n",
        "        for (int second = 0; second < n; ++second) {\n",
        "          if ( first != second ){\n",
        "                aux_product = numbers[first] * numbers[second];\n",
        "                if (aux_product > max_product)  max_product = aux_product;\n",
        "          }\n",
        "        }\n",
        "    }\n",
        "\n",
        "    return max_product;\n",
        "}\n",
        "\n",
        "int main() {\n",
        "    int n;\n",
        "    std::cin >> n;\n",
        "    std::vector<int> numbers(n);\n",
        "    for (int i = 0; i < n; ++i) {\n",
        "        std::cin >> numbers[i];\n",
        "    }\n",
        "\n",
        "    std::cout << MaxPairwiseProduct(numbers) << \"\\n\";\n",
        "    return 0;\n",
        "}"
      ],
      "metadata": {
        "colab": {
          "base_uri": "https://localhost:8080/"
        },
        "id": "3LpfoGv2Ae81",
        "outputId": "59e97170-b4f0-4ec9-deb6-c361867f56f3"
      },
      "execution_count": null,
      "outputs": [
        {
          "output_type": "stream",
          "name": "stdout",
          "text": [
            "Overwriting max_pairwise_product_full.cpp\n"
          ]
        }
      ]
    },
    {
      "cell_type": "markdown",
      "metadata": {
        "id": "m75IQQPbEHBS"
      },
      "source": [
        "#### Time Complexity\n",
        "$$\\left. \\begin{array}{llc}\n",
        " \\text{INSTRUCTION} & \\text{TYPE}& \\text{# EXECUTIONS}\\\\\n",
        "\\text{first != second} &  \\text{comparisons} &n^2 \\\\\n",
        "\\text{numbers[first] * numbers[second]}& \\ \\text{ products}  &n^2 - n \\\\\n",
        "\\text{max_product = aux_product} &  \\text{assigments} & [1, \\frac{n^2 - n}{2})  \n",
        "\\end{array}\\right\\}  =  O(n^2)$$"
      ]
    },
    {
      "cell_type": "code",
      "source": [
        "!g++ max_pairwise_product_full.cpp -o max_pairwise_product_full\n",
        "!./max_pairwise_product_full"
      ],
      "metadata": {
        "id": "PCVo1h6nCF9k",
        "colab": {
          "base_uri": "https://localhost:8080/"
        },
        "outputId": "613b1bd3-ddb5-4ee7-aa9c-46f00d74e19d"
      },
      "execution_count": null,
      "outputs": [
        {
          "output_type": "stream",
          "name": "stdout",
          "text": [
            "^C\n"
          ]
        }
      ]
    },
    {
      "cell_type": "markdown",
      "metadata": {
        "id": "e7KhxHGNS3i0"
      },
      "source": [
        "### Test 1: Small numbers"
      ]
    },
    {
      "cell_type": "code",
      "source": [
        "%%writefile input0.txt\n",
        "10\n",
        "0 0 0 0 0 0 0 0 0 0"
      ],
      "metadata": {
        "colab": {
          "base_uri": "https://localhost:8080/"
        },
        "id": "17npyXt7lYzA",
        "outputId": "666a4c5a-c149-4907-949e-e59d7c8cb2f1"
      },
      "execution_count": null,
      "outputs": [
        {
          "output_type": "stream",
          "name": "stdout",
          "text": [
            "Writing input0.txt\n"
          ]
        }
      ]
    },
    {
      "cell_type": "code",
      "source": [
        "%%writefile output0.txt\n",
        "0"
      ],
      "metadata": {
        "colab": {
          "base_uri": "https://localhost:8080/"
        },
        "id": "NooGEkJylezm",
        "outputId": "7582961b-4285-4e91-9236-a1c2a8b7aa84"
      },
      "execution_count": null,
      "outputs": [
        {
          "output_type": "stream",
          "name": "stdout",
          "text": [
            "Writing output0.txt\n"
          ]
        }
      ]
    },
    {
      "cell_type": "code",
      "source": [
        "!./max_pairwise_product_full< input0.txt > ctest0.txt\n",
        "!grep -xvFf output0.txt ctest0.txt"
      ],
      "metadata": {
        "id": "R0yFaAOrlqrE"
      },
      "execution_count": null,
      "outputs": []
    },
    {
      "cell_type": "code",
      "execution_count": null,
      "metadata": {
        "colab": {
          "base_uri": "https://localhost:8080/"
        },
        "id": "e1mmTzBgShT-",
        "outputId": "3eb4166e-bade-466c-f544-aa7b924aa283"
      },
      "outputs": [
        {
          "output_type": "stream",
          "name": "stdout",
          "text": [
            "Writing input1.txt\n"
          ]
        }
      ],
      "source": [
        "%%writefile input1.txt\n",
        "10\n",
        "1 2 3 4 5 6 7 8 9 10"
      ]
    },
    {
      "cell_type": "code",
      "execution_count": null,
      "metadata": {
        "colab": {
          "base_uri": "https://localhost:8080/"
        },
        "id": "xaj6f9bxC6D6",
        "outputId": "3b3d7270-8464-4d39-ede9-ba280c347161"
      },
      "outputs": [
        {
          "output_type": "stream",
          "name": "stdout",
          "text": [
            "Writing output1.txt\n"
          ]
        }
      ],
      "source": [
        "%%writefile output1.txt\n",
        "90"
      ]
    },
    {
      "cell_type": "code",
      "execution_count": null,
      "metadata": {
        "id": "fYCjAdA_C-wy"
      },
      "outputs": [],
      "source": [
        "!./max_pairwise_product_full< input1.txt > ctest1.txt\n",
        "!grep -xvFf output1.txt ctest1.txt"
      ]
    },
    {
      "cell_type": "code",
      "source": [
        "%%writefile input2.txt\n",
        "10\n",
        "10 9 8 7 6 5 4 3 2 1"
      ],
      "metadata": {
        "colab": {
          "base_uri": "https://localhost:8080/"
        },
        "id": "ZPe40LY14_6f",
        "outputId": "be9f8160-cb12-4b37-ef1d-ec727399ffb4"
      },
      "execution_count": null,
      "outputs": [
        {
          "output_type": "stream",
          "name": "stdout",
          "text": [
            "Writing input2.txt\n"
          ]
        }
      ]
    },
    {
      "cell_type": "code",
      "source": [
        "%%writefile output2.txt\n",
        "90"
      ],
      "metadata": {
        "colab": {
          "base_uri": "https://localhost:8080/"
        },
        "id": "xiHmF7HA5Faa",
        "outputId": "64a0d662-6927-48c8-beae-0aed0b25bf52"
      },
      "execution_count": null,
      "outputs": [
        {
          "output_type": "stream",
          "name": "stdout",
          "text": [
            "Writing output2.txt\n"
          ]
        }
      ]
    },
    {
      "cell_type": "code",
      "source": [
        "!./max_pairwise_product_full< input2.txt > ctest2.txt\n",
        "!grep -xvFf output2.txt ctest2.txt"
      ],
      "metadata": {
        "id": "jjwc9kwb5t_k"
      },
      "execution_count": null,
      "outputs": []
    },
    {
      "cell_type": "markdown",
      "metadata": {
        "id": "IeZ3kTjpYmR9"
      },
      "source": [
        "### Test 2: largest input numbers 200000 200000 to check possible intger overflow"
      ]
    },
    {
      "cell_type": "code",
      "execution_count": null,
      "metadata": {
        "colab": {
          "base_uri": "https://localhost:8080/"
        },
        "id": "LQNlZqaqYt7U",
        "outputId": "d6bde81b-8b62-412a-d63e-95aa4ebeff2a"
      },
      "outputs": [
        {
          "output_type": "stream",
          "name": "stdout",
          "text": [
            "Writing input3.txt\n"
          ]
        }
      ],
      "source": [
        "%%writefile input3.txt\n",
        "6\n",
        "1 3 200000 9 200000 23"
      ]
    },
    {
      "cell_type": "code",
      "execution_count": null,
      "metadata": {
        "colab": {
          "base_uri": "https://localhost:8080/"
        },
        "id": "GjQq7QOUCw-9",
        "outputId": "4ca9e27a-a87e-464f-dafa-b938921d1939"
      },
      "outputs": [
        {
          "output_type": "execute_result",
          "data": {
            "text/plain": [
              "40000000000"
            ]
          },
          "metadata": {},
          "execution_count": 56
        }
      ],
      "source": [
        "200000*200000"
      ]
    },
    {
      "cell_type": "code",
      "execution_count": null,
      "metadata": {
        "colab": {
          "base_uri": "https://localhost:8080/"
        },
        "id": "EuS6n3jtDK5C",
        "outputId": "1639101f-e78c-41b2-caac-2a4f68d46b3f"
      },
      "outputs": [
        {
          "output_type": "stream",
          "name": "stdout",
          "text": [
            "Writing output3.txt\n"
          ]
        }
      ],
      "source": [
        "%%writefile output3.txt\n",
        "40000000000"
      ]
    },
    {
      "cell_type": "code",
      "execution_count": null,
      "metadata": {
        "colab": {
          "base_uri": "https://localhost:8080/"
        },
        "id": "2Wad2VZUZDxR",
        "outputId": "799297b3-c7d5-4177-9882-85c8c1ae3eb0"
      },
      "outputs": [
        {
          "output_type": "stream",
          "name": "stdout",
          "text": [
            "1345294336\n"
          ]
        }
      ],
      "source": [
        "!./max_pairwise_product_full < input3.txt"
      ]
    },
    {
      "cell_type": "code",
      "execution_count": null,
      "metadata": {
        "colab": {
          "base_uri": "https://localhost:8080/"
        },
        "id": "pEvp1ieyDJGq",
        "outputId": "07eb6a6d-6417-490c-b9cc-eef16dbfa07e"
      },
      "outputs": [
        {
          "output_type": "stream",
          "name": "stdout",
          "text": [
            "1345294336\n"
          ]
        }
      ],
      "source": [
        "!./max_pairwise_product_full < input3.txt > ctest3.txt\n",
        "!grep -xvFf output3.txt ctest3.txt"
      ]
    },
    {
      "cell_type": "code",
      "source": [
        " %%writefile run_all_test.sh\n",
        "#!/bin/bash\n",
        "g++ max_pairwise_product_full.cpp -o max_pairwise_product_full\n",
        "for i in {0..3}\n",
        "do\n",
        "    ./max_pairwise_product_full < input$i.txt > ctest$i.txt\n",
        "    grep -xvFf output$i.txt ctest$i.txt\n",
        "done"
      ],
      "metadata": {
        "colab": {
          "base_uri": "https://localhost:8080/"
        },
        "id": "SrtJrKqM-God",
        "outputId": "b4d89ddb-39ad-4fca-aeab-61d8f4957c5f"
      },
      "execution_count": null,
      "outputs": [
        {
          "output_type": "stream",
          "name": "stdout",
          "text": [
            "Overwriting run_all_test.sh\n"
          ]
        }
      ]
    },
    {
      "cell_type": "code",
      "source": [
        "!chmod u+x run_all_test.sh\n",
        "!./run_all_test.sh"
      ],
      "metadata": {
        "colab": {
          "base_uri": "https://localhost:8080/"
        },
        "id": "wGWMHtzS-QnA",
        "outputId": "9465ac84-1822-455e-b688-0fc0111543e3"
      },
      "execution_count": null,
      "outputs": [
        {
          "output_type": "stream",
          "name": "stdout",
          "text": [
            "1345294336\n"
          ]
        }
      ]
    },
    {
      "cell_type": "markdown",
      "metadata": {
        "id": "H2SC0Qt5HCzz"
      },
      "source": [
        "### Changing the variables to long long"
      ]
    },
    {
      "cell_type": "code",
      "execution_count": null,
      "metadata": {
        "colab": {
          "base_uri": "https://localhost:8080/"
        },
        "id": "MPcmsxiQZSfE",
        "outputId": "b95e50b7-e33f-42f5-bcac-024f8eb86300"
      },
      "outputs": [
        {
          "output_type": "stream",
          "name": "stdout",
          "text": [
            "Overwriting max_pairwise_product_long_full.cpp\n"
          ]
        }
      ],
      "source": [
        "%%writefile max_pairwise_product_long_full.cpp\n",
        "#include <iostream>\n",
        "#include <vector>\n",
        "#include <algorithm>\n",
        "\n",
        "long long MaxPairwiseProduct(const std::vector<int>& numbers) {\n",
        "    long long max_product = 0LL;\n",
        "\t  long long aux_product = 0LL;\n",
        "    int n = numbers.size();\n",
        "\n",
        "    for (int first = 0; first < n; ++first) {\n",
        "        for (int second = 0; second < n; ++second) {\n",
        "          if ( first != second){\n",
        "                aux_product = (long long) numbers[first] * numbers[second];\n",
        "                if (aux_product > max_product)  max_product = aux_product;\n",
        "          }\n",
        "        }\n",
        "    }\n",
        "\n",
        "\n",
        "    return max_product;\n",
        "}\n",
        "\n",
        "int main() {\n",
        "    int n;\n",
        "    std::cin >> n;\n",
        "    std::vector<int> numbers(n);\n",
        "    for (int i = 0; i < n; ++i) {\n",
        "        std::cin >> numbers[i];\n",
        "    }\n",
        "\n",
        "    std::cout << MaxPairwiseProduct(numbers) << \"\\n\";\n",
        "    return 0;\n",
        "}\n"
      ]
    },
    {
      "cell_type": "code",
      "source": [
        "!g++ max_pairwise_product_long_full.cpp -o max_pairwise_product_long_full"
      ],
      "metadata": {
        "id": "W3xQpFXL6wjO"
      },
      "execution_count": null,
      "outputs": []
    },
    {
      "cell_type": "code",
      "source": [
        "!./max_pairwise_product_long_full < input3.txt"
      ],
      "metadata": {
        "colab": {
          "base_uri": "https://localhost:8080/"
        },
        "id": "H5dvN9M3R9sV",
        "outputId": "4dbb5399-ab46-43c1-f66c-a65a16e31e77"
      },
      "execution_count": null,
      "outputs": [
        {
          "output_type": "stream",
          "name": "stdout",
          "text": [
            "40000000000\n"
          ]
        }
      ]
    },
    {
      "cell_type": "markdown",
      "source": [
        "### Runing multuple test with a bash shell"
      ],
      "metadata": {
        "id": "gx-sEYdfQ8f8"
      }
    },
    {
      "cell_type": "code",
      "source": [
        " %%writefile run_all_test.sh\n",
        "#!/bin/bash\n",
        "g++ max_pairwise_product_long_full.cpp -o max_pairwise_product_long_full\n",
        "for i in {1..3}\n",
        "do\n",
        "    ./max_pairwise_product_long_full < input$i.txt > ctest$i.txt\n",
        "    grep -xvFf output$i.txt ctest$i.txt\n",
        "done"
      ],
      "metadata": {
        "colab": {
          "base_uri": "https://localhost:8080/"
        },
        "id": "O9qsq2nn7elw",
        "outputId": "a041ae38-e1af-47f7-8730-1db1d901c08f"
      },
      "execution_count": null,
      "outputs": [
        {
          "output_type": "stream",
          "name": "stdout",
          "text": [
            "Overwriting run_all_test.sh\n"
          ]
        }
      ]
    },
    {
      "cell_type": "code",
      "source": [
        "!chmod u+x run_all_test.sh\n",
        "!./run_all_test.sh"
      ],
      "metadata": {
        "id": "0g5kKVph7xIA"
      },
      "execution_count": null,
      "outputs": []
    },
    {
      "cell_type": "markdown",
      "metadata": {
        "id": "XPVHkHxH6_7s"
      },
      "source": [
        "### Test 3  stress tests, 6 testing cases files input4.txt/output4.txt .. input10.txt/output10.txt\n",
        "\n",
        "---\n",
        "\n"
      ]
    },
    {
      "cell_type": "markdown",
      "source": [
        "To make it easier to generate the test cases we produced random tests for this"
      ],
      "metadata": {
        "id": "Sq7ERXkB2euL"
      }
    },
    {
      "cell_type": "code",
      "source": [
        "import random\n",
        "number = random.randint(2, 20)\n",
        "print(number)\n",
        "numbers = [str(random.randint(1, 200000)) for _ in range(number)]\n",
        "print(' '.join(numbers))"
      ],
      "metadata": {
        "colab": {
          "base_uri": "https://localhost:8080/"
        },
        "id": "PLIXsmFf2eeD",
        "outputId": "ac1a8b76-207a-406a-979d-c23f63a596df"
      },
      "execution_count": null,
      "outputs": [
        {
          "output_type": "stream",
          "name": "stdout",
          "text": [
            "17\n",
            "60188 59331 79393 162530 36444 81978 154516 71682 57356 1788 118850 14026 145878 67212 180538 154550 132119\n"
          ]
        }
      ]
    },
    {
      "cell_type": "markdown",
      "source": [
        "####Inputs for Test 4"
      ],
      "metadata": {
        "id": "S_xGGL2oyZlc"
      }
    },
    {
      "cell_type": "code",
      "execution_count": null,
      "metadata": {
        "id": "PwqpBmYr69fu",
        "colab": {
          "base_uri": "https://localhost:8080/"
        },
        "outputId": "e4af3ef2-5cc5-4695-9e3b-810ebf78d18f"
      },
      "outputs": [
        {
          "output_type": "stream",
          "name": "stdout",
          "text": [
            "Writing input4.txt\n"
          ]
        }
      ],
      "source": [
        "%%writefile input4.txt\n",
        "5\n",
        "100000 6500 23456 123456 98"
      ]
    },
    {
      "cell_type": "code",
      "execution_count": null,
      "metadata": {
        "id": "jBCkMeR6Fw4y",
        "colab": {
          "base_uri": "https://localhost:8080/"
        },
        "outputId": "519d8cde-902d-4d16-dca8-fd02690eb2c3"
      },
      "outputs": [
        {
          "output_type": "stream",
          "name": "stdout",
          "text": [
            "Writing output4.txt\n"
          ]
        }
      ],
      "source": [
        "%%writefile output4.txt\n",
        "12345600000"
      ]
    },
    {
      "cell_type": "code",
      "source": [
        "!./max_pairwise_product_long_full < input4.txt > ctest4.txt\n",
        "!grep -xvFf output4.txt ctest4.txt"
      ],
      "metadata": {
        "id": "zED8V8wu-eoM"
      },
      "execution_count": null,
      "outputs": []
    },
    {
      "cell_type": "markdown",
      "source": [
        "####Inputs for Test 5"
      ],
      "metadata": {
        "id": "lEz-Kci9ycyo"
      }
    },
    {
      "cell_type": "code",
      "source": [
        "%%writefile input5.txt\n",
        "10\n",
        "100000 200000 199999 198999 100 20 19999 19899"
      ],
      "metadata": {
        "colab": {
          "base_uri": "https://localhost:8080/"
        },
        "id": "CpQe1r4Kxmdn",
        "outputId": "b276fae0-a72f-4e63-f9d6-2e571c41799c"
      },
      "execution_count": null,
      "outputs": [
        {
          "output_type": "stream",
          "name": "stdout",
          "text": [
            "Writing input5.txt\n"
          ]
        }
      ]
    },
    {
      "cell_type": "code",
      "source": [
        "%%writefile output5.txt\n",
        "39999800000"
      ],
      "metadata": {
        "colab": {
          "base_uri": "https://localhost:8080/"
        },
        "id": "X4IK0QHHxoDq",
        "outputId": "ee4a1eef-5db8-484c-e70f-aa34285c73a0"
      },
      "execution_count": null,
      "outputs": [
        {
          "output_type": "stream",
          "name": "stdout",
          "text": [
            "Writing output5.txt\n"
          ]
        }
      ]
    },
    {
      "cell_type": "code",
      "source": [
        "!./max_pairwise_product_long_full < input5.txt > ctest5.txt\n",
        "!grep -xvFf output5.txt ctest5.txt"
      ],
      "metadata": {
        "id": "sPuYtHZiyggV"
      },
      "execution_count": null,
      "outputs": []
    },
    {
      "cell_type": "markdown",
      "source": [
        "####Inputs for Test 6"
      ],
      "metadata": {
        "id": "K7pJhnAiyim_"
      }
    },
    {
      "cell_type": "code",
      "source": [
        "%%writefile input6.txt\n",
        "14\n",
        "137085 418 65440 153266 35820 511 135544 107425 21528 109508 137551 15103 51818 58457"
      ],
      "metadata": {
        "colab": {
          "base_uri": "https://localhost:8080/"
        },
        "outputId": "3e9568c8-2de7-4a8a-a728-296d7f7d1a5b",
        "id": "f4tPDhBeyOSr"
      },
      "execution_count": null,
      "outputs": [
        {
          "output_type": "stream",
          "name": "stdout",
          "text": [
            "Writing input6.txt\n"
          ]
        }
      ]
    },
    {
      "cell_type": "code",
      "source": [
        "%%writefile output6.txt\n",
        "21081891566"
      ],
      "metadata": {
        "colab": {
          "base_uri": "https://localhost:8080/"
        },
        "outputId": "f8d379ff-b27f-4aea-9972-2df2d8940894",
        "id": "ajKjee0FyIzE"
      },
      "execution_count": null,
      "outputs": [
        {
          "output_type": "stream",
          "name": "stdout",
          "text": [
            "Writing output6.txt\n"
          ]
        }
      ]
    },
    {
      "cell_type": "code",
      "source": [
        "!./max_pairwise_product_long_full < input6.txt > ctest6.txt\n",
        "!grep -xvFf output6.txt ctest6.txt"
      ],
      "metadata": {
        "id": "WB3jPiluykmM"
      },
      "execution_count": null,
      "outputs": []
    },
    {
      "cell_type": "markdown",
      "source": [
        "####Inputs for Test 7"
      ],
      "metadata": {
        "id": "sAHn_gA_ymQY"
      }
    },
    {
      "cell_type": "code",
      "source": [
        "%%writefile input7.txt\n",
        "5\n",
        "27707 89651 173127 24779 197012"
      ],
      "metadata": {
        "colab": {
          "base_uri": "https://localhost:8080/"
        },
        "outputId": "630a076b-2770-41dc-a96c-00ca3983dba2",
        "id": "3ZWE_jpGyTLc"
      },
      "execution_count": null,
      "outputs": [
        {
          "output_type": "stream",
          "name": "stdout",
          "text": [
            "Writing input7.txt\n"
          ]
        }
      ]
    },
    {
      "cell_type": "code",
      "source": [
        "%%writefile output7.txt\n",
        "34108096524"
      ],
      "metadata": {
        "colab": {
          "base_uri": "https://localhost:8080/"
        },
        "outputId": "21a22ce5-d41b-4948-d268-a1a56d783e96",
        "id": "O9GpQS2XyI_K"
      },
      "execution_count": null,
      "outputs": [
        {
          "output_type": "stream",
          "name": "stdout",
          "text": [
            "Writing output7.txt\n"
          ]
        }
      ]
    },
    {
      "cell_type": "code",
      "source": [
        "!./max_pairwise_product_long_full < input7.txt > ctest7.txt\n",
        "!grep -xvFf output7.txt ctest7.txt"
      ],
      "metadata": {
        "id": "CdRlmbJVyn1H"
      },
      "execution_count": null,
      "outputs": []
    },
    {
      "cell_type": "markdown",
      "source": [
        "####Inputs for Test 8"
      ],
      "metadata": {
        "id": "ZLYKHaI6ytI9"
      }
    },
    {
      "cell_type": "code",
      "source": [
        "%%writefile input8.txt\n",
        "7\n",
        "181169 186907 26822 180751 140223 46947 71938"
      ],
      "metadata": {
        "colab": {
          "base_uri": "https://localhost:8080/"
        },
        "outputId": "2c4dcd18-b993-443d-da0e-6fc714d17f15",
        "id": "WjWP4gY-yVf8"
      },
      "execution_count": null,
      "outputs": [
        {
          "output_type": "stream",
          "name": "stdout",
          "text": [
            "Writing input8.txt\n"
          ]
        }
      ]
    },
    {
      "cell_type": "code",
      "source": [
        "%%writefile output8.txt\n",
        "33861754283"
      ],
      "metadata": {
        "colab": {
          "base_uri": "https://localhost:8080/"
        },
        "outputId": "181582d9-14e0-421b-d149-b01ba4a8e044",
        "id": "HQevm6payJGx"
      },
      "execution_count": null,
      "outputs": [
        {
          "output_type": "stream",
          "name": "stdout",
          "text": [
            "Writing output8.txt\n"
          ]
        }
      ]
    },
    {
      "cell_type": "code",
      "source": [
        "!./max_pairwise_product_long_full < input8.txt > ctest8.txt\n",
        "!grep -xvFf output8.txt ctest8.txt"
      ],
      "metadata": {
        "id": "WR6OvTzKyu9h"
      },
      "execution_count": null,
      "outputs": []
    },
    {
      "cell_type": "markdown",
      "source": [
        "####Inputs for Test 9"
      ],
      "metadata": {
        "id": "_E8GEyFVyvjI"
      }
    },
    {
      "cell_type": "code",
      "source": [
        "%%writefile input9.txt\n",
        "14\n",
        "17472 108927 14916 122218 80916 44068 172256 186078 58993 101650 54594 122494 171557 24454"
      ],
      "metadata": {
        "colab": {
          "base_uri": "https://localhost:8080/"
        },
        "outputId": "077599d6-614a-46bb-8788-f934450eb788",
        "id": "i2cmTXOjyXO2"
      },
      "execution_count": null,
      "outputs": [
        {
          "output_type": "stream",
          "name": "stdout",
          "text": [
            "Writing input9.txt\n"
          ]
        }
      ]
    },
    {
      "cell_type": "code",
      "source": [
        "%%writefile output9.txt\n",
        "32053051968"
      ],
      "metadata": {
        "colab": {
          "base_uri": "https://localhost:8080/"
        },
        "outputId": "ef33b5db-aa3d-4c59-8b70-54c32cee4885",
        "id": "1E3GTGh6yJNp"
      },
      "execution_count": null,
      "outputs": [
        {
          "output_type": "stream",
          "name": "stdout",
          "text": [
            "Writing output9.txt\n"
          ]
        }
      ]
    },
    {
      "cell_type": "code",
      "source": [
        "!./max_pairwise_product_long_full < input9.txt > ctest9.txt\n",
        "!grep -xvFf output9.txt ctest9.txt"
      ],
      "metadata": {
        "id": "JhfeUg1qy5HI"
      },
      "execution_count": null,
      "outputs": []
    },
    {
      "cell_type": "markdown",
      "source": [
        "####Inputs For Test 10\n"
      ],
      "metadata": {
        "id": "XQUrROsny8vY"
      }
    },
    {
      "cell_type": "code",
      "source": [
        "%%writefile input10.txt\n",
        "17\n",
        "60188 59331 79393 162530 36444 81978 154516 71682 57356 1788 118850 14026 145878 67212 180538 154550 132119"
      ],
      "metadata": {
        "colab": {
          "base_uri": "https://localhost:8080/"
        },
        "outputId": "3bcffcbb-52de-40ab-ffd1-2416845c9c4a",
        "id": "lVhJtqQizCB2"
      },
      "execution_count": null,
      "outputs": [
        {
          "output_type": "stream",
          "name": "stdout",
          "text": [
            "Writing input10.txt\n"
          ]
        }
      ]
    },
    {
      "cell_type": "code",
      "source": [
        "%%writefile output10.txt\n",
        "29342841140"
      ],
      "metadata": {
        "colab": {
          "base_uri": "https://localhost:8080/"
        },
        "outputId": "2598dd86-e1f8-4af8-9321-ade62c212c1a",
        "id": "PUJqtuNJzDfE"
      },
      "execution_count": null,
      "outputs": [
        {
          "output_type": "stream",
          "name": "stdout",
          "text": [
            "Writing output10.txt\n"
          ]
        }
      ]
    },
    {
      "cell_type": "code",
      "source": [
        "!./max_pairwise_product_long_full < input10.txt > ctest10.txt\n",
        "!grep -xvFf output10.txt ctest10.txt"
      ],
      "metadata": {
        "id": "Oz_CzC62zE4p"
      },
      "execution_count": null,
      "outputs": []
    },
    {
      "cell_type": "markdown",
      "source": [
        "#### Verifying the results"
      ],
      "metadata": {
        "id": "_dRY4NZ8zfnn"
      }
    },
    {
      "cell_type": "code",
      "source": [
        "%%writefile run_Last_tests.sh\n",
        "#!/bin/bash\n",
        "g++ max_pairwise_product_long_full.cpp -o max_pairwise_product_long_full\n",
        "for i in {3..10}\n",
        "do\n",
        "    ./max_pairwise_product_long_full < input$i.txt > ctest$i.txt\n",
        "    grep -xvFf output$i.txt ctest$i.txt\n",
        "done"
      ],
      "metadata": {
        "colab": {
          "base_uri": "https://localhost:8080/"
        },
        "id": "l9nf4Scsze0m",
        "outputId": "62e8e7d0-6f95-478f-f5ce-f4c37e57d6d7"
      },
      "execution_count": null,
      "outputs": [
        {
          "output_type": "stream",
          "name": "stdout",
          "text": [
            "Overwriting run_Last_tests.sh\n"
          ]
        }
      ]
    },
    {
      "cell_type": "code",
      "source": [
        "!chmod u+x run_Last_tests.sh\n",
        "!./run_Last_tests.sh"
      ],
      "metadata": {
        "id": "owCifc39zqgM"
      },
      "execution_count": null,
      "outputs": []
    },
    {
      "cell_type": "markdown",
      "metadata": {
        "id": "9z9yr5QkeyJF"
      },
      "source": [
        "### Test 4  time test  measure the execution time running with the the largest worst cases input11.txt  (200000 increasing numbers) and input12.txt (199998 increasing numbers and  200000, 200000 at the end)"
      ]
    },
    {
      "cell_type": "code",
      "source": [
        "# input11.txt 200000 increasing numbers:  1 2 .. 200000\n",
        "\n",
        "%%writefile WriteTest.cpp\n",
        "\n",
        "#include <iostream>\n",
        "#include <fstream>\n",
        "#include <cstdlib>\n",
        "\n",
        "using namespace std;\n",
        "\n",
        "int main() {\n",
        "  // Create and open a text file\n",
        "  ofstream MyFile(\"input11.txt\");\n",
        "\n",
        " MyFile << 200000 <<\"\\n\";  // n\n",
        " for (int i=1; i <200001; i++){\n",
        "     MyFile << i <<\" \";\n",
        " }\n",
        "\n",
        "  // Close the file\n",
        "  MyFile.close();\n",
        "}"
      ],
      "metadata": {
        "colab": {
          "base_uri": "https://localhost:8080/"
        },
        "id": "UmB1ipWM_nSk",
        "outputId": "b2994f39-44c1-4007-b156-ca44baa3701f"
      },
      "execution_count": null,
      "outputs": [
        {
          "output_type": "stream",
          "name": "stdout",
          "text": [
            "Overwriting WriteTest.cpp\n"
          ]
        }
      ]
    },
    {
      "cell_type": "code",
      "execution_count": null,
      "metadata": {
        "id": "EH25TkOkZfD9"
      },
      "outputs": [],
      "source": [
        "!g++ WriteTest.cpp -o WriteTest\n",
        "!./WriteTest"
      ]
    },
    {
      "cell_type": "code",
      "source": [
        "199999 * 200000"
      ],
      "metadata": {
        "colab": {
          "base_uri": "https://localhost:8080/"
        },
        "id": "j0mokSOnCCtZ",
        "outputId": "5d50edf0-2a27-4e91-b139-1ae7ebcd4062"
      },
      "execution_count": null,
      "outputs": [
        {
          "output_type": "execute_result",
          "data": {
            "text/plain": [
              "39999800000"
            ]
          },
          "metadata": {},
          "execution_count": 124
        }
      ]
    },
    {
      "cell_type": "code",
      "source": [
        "%%writefile output11.txt\n",
        "39999800000"
      ],
      "metadata": {
        "id": "VoDhDV73B5Mo",
        "colab": {
          "base_uri": "https://localhost:8080/"
        },
        "outputId": "411fac1f-5054-4eae-fc5a-3205edec61f5"
      },
      "execution_count": null,
      "outputs": [
        {
          "output_type": "stream",
          "name": "stdout",
          "text": [
            "Overwriting output11.txt\n"
          ]
        }
      ]
    },
    {
      "cell_type": "code",
      "execution_count": null,
      "metadata": {
        "colab": {
          "base_uri": "https://localhost:8080/"
        },
        "id": "oLiMjbAIfPlX",
        "outputId": "619c1066-0424-4e23-e106-473626ec758d"
      },
      "outputs": [
        {
          "output_type": "stream",
          "name": "stdout",
          "text": [
            "Overwriting WriteTest.cpp\n"
          ]
        }
      ],
      "source": [
        "# input12.txt 200000 decreasing numbers and 200000, 199999 ...  2 1\n",
        "\n",
        "%%writefile WriteTest.cpp\n",
        "\n",
        "#include <iostream>\n",
        "#include <fstream>\n",
        "#include <cstdlib>\n",
        "\n",
        "using namespace std;\n",
        "\n",
        "int main() {\n",
        "  // Create and open a text file\n",
        "  ofstream MyFile(\"input12.txt\");\n",
        "\n",
        " MyFile << 200000 <<\"\\n\";  // n\n",
        " for (int i=1; i <200001; i++){\n",
        "     MyFile << 200001-i <<\" \";\n",
        " }\n",
        "\n",
        "  // Close the file\n",
        "  MyFile.close();\n",
        "}"
      ]
    },
    {
      "cell_type": "code",
      "source": [
        "!g++ WriteTest.cpp -o WriteTest\n",
        "!./WriteTest"
      ],
      "metadata": {
        "id": "oULNBr_zAd9c"
      },
      "execution_count": null,
      "outputs": []
    },
    {
      "cell_type": "code",
      "source": [
        "%%writefile output12.txt\n",
        "39999800000"
      ],
      "metadata": {
        "colab": {
          "base_uri": "https://localhost:8080/"
        },
        "id": "PQLyocaFB-y4",
        "outputId": "662ba093-7b9c-44f8-b136-bee476961fa4"
      },
      "execution_count": null,
      "outputs": [
        {
          "output_type": "stream",
          "name": "stdout",
          "text": [
            "Overwriting output12.txt\n"
          ]
        }
      ]
    },
    {
      "cell_type": "markdown",
      "metadata": {
        "id": "JB6f03qO-lj9"
      },
      "source": [
        "### Measure time\n",
        "\n",
        "https://askubuntu.com/questions/53444/how-can-i-measure-the-execution-time-of-a-terminal-process"
      ]
    },
    {
      "cell_type": "code",
      "execution_count": null,
      "metadata": {
        "colab": {
          "base_uri": "https://localhost:8080/"
        },
        "id": "6p2QLEr576zk",
        "outputId": "4de98012-0b77-401a-d502-d4ee6c3945ec"
      },
      "outputs": [
        {
          "output_type": "stream",
          "name": "stdout",
          "text": [
            "39999800000\n",
            "\n",
            "real\t4m54.328s\n",
            "user\t4m51.409s\n",
            "sys\t0m0.117s\n"
          ]
        }
      ],
      "source": [
        "!g++ max_pairwise_product_long_full.cpp -o max_pairwise_product_long_full\n",
        "!time ./max_pairwise_product_long_full< input11.txt"
      ]
    },
    {
      "cell_type": "code",
      "source": [
        "!g++ max_pairwise_product_long_full.cpp -o max_pairwise_product_long_full\n",
        "!time ./max_pairwise_product_long_full< input12.txt"
      ],
      "metadata": {
        "colab": {
          "base_uri": "https://localhost:8080/"
        },
        "id": "cnjCyeUdAnZj",
        "outputId": "e4069551-f6c6-49b0-9835-ffc95da2322f"
      },
      "execution_count": null,
      "outputs": [
        {
          "output_type": "stream",
          "name": "stdout",
          "text": [
            "39999800000\n",
            "\n",
            "real\t4m54.203s\n",
            "user\t4m51.342s\n",
            "sys\t0m0.143s\n"
          ]
        }
      ]
    },
    {
      "cell_type": "markdown",
      "metadata": {
        "id": "FXClpBsUJuXC"
      },
      "source": [
        "### Calculate the number or and upper bound to the number of instructions executed by the algorithm as a function of n, add in each line a comment with the number of instructions that are executed in that line."
      ]
    },
    {
      "cell_type": "code",
      "execution_count": null,
      "metadata": {
        "colab": {
          "base_uri": "https://localhost:8080/"
        },
        "id": "uG6Mv-Pwlkii",
        "outputId": "0e5fe110-8398-40b1-e65c-30ec1da0f78a"
      },
      "outputs": [
        {
          "output_type": "stream",
          "name": "stdout",
          "text": [
            "Overwriting max_pairwise_product_long_full.cpp\n"
          ]
        }
      ],
      "source": [
        "%%writefile max_pairwise_product_long_full.cpp\n",
        "#include <iostream>\n",
        "#include <vector>\n",
        "#include <algorithm>\n",
        "\n",
        "long long MaxPairwiseProduct(const std::vector<int>& numbers) {              //INSTRUCTIONS executed by line\n",
        "    long long max_product = 0LL;                                             //1\n",
        "\t  long long aux_product = 0LL;                                             //1\n",
        "    int n = numbers.size();                                                  //1\n",
        "\n",
        "    for (int first = 0; first < n; ++first) {                                //2+2n\n",
        "        for (int second = 0; second < n; ++second) {                         //2n + 2n**2\n",
        "          if ( first != second ){                                            //n**2\n",
        "                aux_product = numbers[first] * numbers[second];              //n**2 -n\n",
        "                if (aux_product > max_product)                               //n**2 -n\n",
        "                    max_product = aux_product;                               //[0, n**2/2 - n/2] upper bound\n",
        "          }\n",
        "        }\n",
        "    }\n",
        "\n",
        "                                                                             // --------------\n",
        "    return max_product;                                                      // 5 + 2*n + [5*n**2, 11*n**2/2  - n/2]  upper bound\n",
        "}\n",
        "\n",
        "int main() {                                              //INSTRUCTIONS executed by line\n",
        "    int n;                                                //1\n",
        "    std::cin >> n;                                        //1\n",
        "    std::vector<int> numbers(n);                          //n\n",
        "    for (int i = 0; i < n; ++i) {                         //2 + 2n\n",
        "        std::cin >> numbers[i];                           //n\n",
        "    }\n",
        "\n",
        "    std::cout << MaxPairwiseProduct(numbers) << \"\\n\";     //1 + 1  + 5 + 2*n + [5*n**2, 11*n**2/2  - n/2]\n",
        "\n",
        "    return 0;                                             // --------------\n",
        "}                                                         //  11 + 6*n + [5*n**2, 11*n**2/2  - n/2]  upper bound\n"
      ]
    },
    {
      "cell_type": "markdown",
      "metadata": {
        "id": "0vTsUg8OwcHs"
      },
      "source": [
        "### Count executed intructions in code"
      ]
    },
    {
      "cell_type": "code",
      "execution_count": null,
      "metadata": {
        "colab": {
          "base_uri": "https://localhost:8080/"
        },
        "id": "CuRKkqQc137V",
        "outputId": "4c2f4291-afb1-479e-900b-ccea4fb56a78"
      },
      "outputs": [
        {
          "output_type": "stream",
          "name": "stdout",
          "text": [
            "Writing max_pairwise_product_long_full_execints.cpp\n"
          ]
        }
      ],
      "source": [
        "%%writefile max_pairwise_product_long_full_execints.cpp\n",
        "#include <iostream>\n",
        "#include <vector>\n",
        "#include <algorithm>\n",
        "\n",
        "long long MaxPairwiseProduct(const std::vector<int>& numbers, long long &execints) {      //INSTRUCTIONS executed by line\n",
        "\n",
        "    long long max_product = 0LL;                                                          //1\n",
        "    execints++;\n",
        "\n",
        "\t  long long aux_product = 0LL;                                                          //1\n",
        "    execints++;\n",
        "\n",
        "    int n = numbers.size();                                                               //1\n",
        "    execints++;\n",
        "\n",
        "    execints++;\n",
        "    for (int first = 0; first < n; ++first) {                                             //2+2n\n",
        "        execints += 2;\n",
        "\n",
        "        execints++;\n",
        "        for (int second = 0; second < n; ++second) {                                       //2n + 2n**2\n",
        "          execints += 2;\n",
        "\n",
        "          execints++;\n",
        "          if ( first != second ){                                                         //n**2\n",
        "                aux_product = numbers[first] * numbers[second];                           //n**2 -n\n",
        "                execints++;\n",
        "\n",
        "                execints++;\n",
        "                if (aux_product > max_product){                                           //n**2 -n\n",
        "                    max_product = aux_product;                                            //[0,n**2/2 - n/2)  upper bound\n",
        "                    execints++;\n",
        "\n",
        "                }\n",
        "        }\n",
        "\n",
        "      }\n",
        "      execints++;\n",
        "    }\n",
        "    execints++;\n",
        "                                                                                        // --------------\n",
        "    return max_product;                                                                 // 5 + 2*n + [5*n**2, 11*n**2/2  - n/2] upper bound\n",
        "}\n",
        "\n",
        "int main() {                                                 //INSTRUCTIONS executed by line\n",
        "\n",
        "    long long execints =0LL;\n",
        "\n",
        "    int n;                                                   //1\n",
        "    execints++;\n",
        "\n",
        "    std::cin >> n;                                           //1\n",
        "    execints++;\n",
        "\n",
        "    std::vector<int> numbers(n);                             //n\n",
        "    execints += n;\n",
        "\n",
        "    execints++;\n",
        "    for (int i = 0; i < n; ++i) {                            //2 + 2n\n",
        "        execints += 2;\n",
        "\n",
        "        std::cin >> numbers[i];\n",
        "        execints++;                                          //n\n",
        "\n",
        "    }\n",
        "\n",
        "\n",
        "    //std::cout << MaxPairwiseProduct(numbers) << \"\\n\";      //1 + 1  + 5 + 2*n + [5*n**2, 11*n**2/2  - n/2] upper bound\n",
        "\n",
        "    execints++;\n",
        "    int M = MaxPairwiseProduct(numbers,execints);\n",
        "\n",
        "    execints++;\n",
        "    std::cout <<  execints << \"\\n\";\n",
        "    return 0;                                                // --------------\n",
        "}                                                            // 11 + 6*n + [5*n**2, 11*n**2/2  - n/2]"
      ]
    },
    {
      "cell_type": "markdown",
      "source": [
        "The number of instructions executed by the algooirithm with a list of size $n$ is  \n",
        "\n",
        "$$T (n) = 11 + 6n + \\left[5n^2, 11\\frac{n^2}{2}  - \\frac{n}{2}\\right)  >  6n^2 = O(n^2)$$\n",
        "\n",
        "It depends on the size of the lists and  the order of the list.\n",
        "\n",
        "For the input0.txt\n",
        "```\n",
        "10\n",
        "0 0 0 0 0 0 0 0 0 0\n",
        "```\n",
        "$$T = 11 + 6(10) + 5(10)^2   = 561 $$\n",
        "\n",
        "$$T(10) \\in [571, 621)  $$\n"
      ],
      "metadata": {
        "id": "cUjHtvtdDsmr"
      }
    },
    {
      "cell_type": "code",
      "source": [
        "!g++ max_pairwise_product_long_full_execints.cpp -o max_pairwise_product_long_full_execints\n",
        "!./max_pairwise_product_long_full_execints < input0.txt"
      ],
      "metadata": {
        "colab": {
          "base_uri": "https://localhost:8080/"
        },
        "id": "Om9Fevb0miAT",
        "outputId": "778417c9-2add-4f20-a87f-07327c9ec0a3"
      },
      "execution_count": null,
      "outputs": [
        {
          "output_type": "stream",
          "name": "stdout",
          "text": [
            "570\n"
          ]
        }
      ]
    },
    {
      "cell_type": "markdown",
      "source": [
        "For the input1.txt\n",
        "```\n",
        "10\n",
        "1 2 3 4 5 6 7 8 9 10\n",
        "```\n",
        "$$T = 11 + 6(10) + 5(10)^2 +  9 + 5 + 4 + 3 + 2 + 2 + 2 + 2 + 1 + 0  = 601 $$\n",
        "\n",
        "$$T(10) \\in [572, 622)  $$\n"
      ],
      "metadata": {
        "id": "FwJzZ6VzmArY"
      }
    },
    {
      "cell_type": "code",
      "source": [
        "#The number of times that  max_product = aux_product; in the worst case is less than (n**2 -n)/2 -  upper bound\n",
        "\n",
        "#     1  2  3  4  5  6  7  8  9  10\n",
        "#  1  x  2  3  4  5  6  7  8  9  10         9\n",
        "#  2  2  x  6  8  10 12 14 16 18 20         5 14\n",
        "#  3  3  6  x  12 15 18 21 24 27 30         4 18\n",
        "#  4  4  8  12 x  20 24 28 32 36 40         3 21\n",
        "#  5  5  10 15 20 x  30 35 40 45 50         2 23\n",
        "#  6  6  12 18 24 30 x  42 48 54 60         2 25\n",
        "#  7  7  14 21 28 35 42 x  56 63 70         2 27\n",
        "#  8  8  18 27 36 45 54 63 72 x  90         1 30\n",
        "#  10 10 20 30 40 50 60 70 60 90 x          0"
      ],
      "metadata": {
        "id": "K59xQMWiBNFj"
      },
      "execution_count": null,
      "outputs": []
    },
    {
      "cell_type": "code",
      "source": [
        "11 + 6*(10) + 5*(10)*(10) +  9 + 5 + 4 + 3 + 2 + 2 + 2 + 2 + 1 + 0"
      ],
      "metadata": {
        "colab": {
          "base_uri": "https://localhost:8080/"
        },
        "id": "E3O8dzFfEgir",
        "outputId": "3a290dc6-a7a8-4485-f11b-3e69445ff695"
      },
      "execution_count": null,
      "outputs": [
        {
          "output_type": "execute_result",
          "data": {
            "text/plain": [
              "601"
            ]
          },
          "metadata": {},
          "execution_count": 144
        }
      ]
    },
    {
      "cell_type": "code",
      "source": [
        "n = 10\n",
        "print( \"[\", 11 + 6*n + 5*n**2,  \",\", 11 + 6*n  + 5.5*n**2, \")\")"
      ],
      "metadata": {
        "colab": {
          "base_uri": "https://localhost:8080/"
        },
        "id": "TCpdl5u_Gq1a",
        "outputId": "fc421d70-14ea-42b3-e0a0-0f3d211f7127"
      },
      "execution_count": null,
      "outputs": [
        {
          "output_type": "stream",
          "name": "stdout",
          "text": [
            "[ 571 , 621.0 )\n"
          ]
        }
      ]
    },
    {
      "cell_type": "code",
      "execution_count": null,
      "metadata": {
        "colab": {
          "base_uri": "https://localhost:8080/"
        },
        "id": "Kuvm1C05ly2a",
        "outputId": "87421a33-3e4c-414d-c1df-f31554c0a191"
      },
      "outputs": [
        {
          "output_type": "stream",
          "name": "stdout",
          "text": [
            "600\n"
          ]
        }
      ],
      "source": [
        "!g++ max_pairwise_product_long_full_execints.cpp -o max_pairwise_product_long_full_execints\n",
        "!./max_pairwise_product_long_full_execints < input1.txt"
      ]
    },
    {
      "cell_type": "markdown",
      "source": [
        "\n",
        "For the input2.txt\n",
        "```\n",
        "10\n",
        "10 9 8 7 6 5 4 3 2 1\n",
        "```\n",
        "$$T = 11 + 6*(10) + 5*(10)**2 +  1  = 571 $$"
      ],
      "metadata": {
        "id": "Yr_Lb7CaHfxB"
      }
    },
    {
      "cell_type": "code",
      "source": [
        "11 + 6*(10) + 5*(10)**2 +  1"
      ],
      "metadata": {
        "colab": {
          "base_uri": "https://localhost:8080/"
        },
        "id": "HOdqlwJiZUIp",
        "outputId": "2c79600e-f9ed-4a7c-d8f9-c7effc9aac8c"
      },
      "execution_count": null,
      "outputs": [
        {
          "output_type": "execute_result",
          "data": {
            "text/plain": [
              "572"
            ]
          },
          "metadata": {},
          "execution_count": 147
        }
      ]
    },
    {
      "cell_type": "code",
      "source": [
        "!g++ max_pairwise_product_long_full_execints.cpp -o max_pairwise_product_long_full_execints\n",
        "!./max_pairwise_product_long_full_execints < input2.txt"
      ],
      "metadata": {
        "id": "_znzLectjFSe",
        "colab": {
          "base_uri": "https://localhost:8080/"
        },
        "outputId": "9cc45f24-5495-4547-d34a-84ad6839f8fa"
      },
      "execution_count": null,
      "outputs": [
        {
          "output_type": "stream",
          "name": "stdout",
          "text": [
            "571\n"
          ]
        }
      ]
    },
    {
      "cell_type": "markdown",
      "metadata": {
        "id": "NXW7QkoBL6xH"
      },
      "source": [
        "Calculate estimated time by instruction and number of instructions by second"
      ]
    },
    {
      "cell_type": "markdown",
      "source": [
        "For the input11.txt\n",
        "```\n",
        "200000\n",
        "1 2 ..  199999 2000\n",
        "```\n",
        "$$T = 11 + 6*(200000) + 5.5*(200000)**2  = 200001200012  $$"
      ],
      "metadata": {
        "id": "dlyRjaohz-YH"
      }
    },
    {
      "cell_type": "code",
      "source": [
        "!g++ max_pairwise_product_long_full_execints.cpp -o max_pairwise_product_long_full_execints\n",
        "!./max_pairwise_product_long_full_execints < input11.txt"
      ],
      "metadata": {
        "colab": {
          "base_uri": "https://localhost:8080/"
        },
        "id": "BMH8mF3EKn2w",
        "outputId": "edcf66c8-c468-4da1-99b2-a79846f05a8b"
      },
      "execution_count": null,
      "outputs": [
        {
          "output_type": "stream",
          "name": "stdout",
          "text": [
            "200003177091\n"
          ]
        }
      ]
    },
    {
      "cell_type": "code",
      "execution_count": null,
      "metadata": {
        "colab": {
          "base_uri": "https://localhost:8080/"
        },
        "id": "pKqB3i7dIxnc",
        "outputId": "cbbc815e-f271-4671-a640-dd32b7658d17"
      },
      "outputs": [
        {
          "output_type": "execute_result",
          "data": {
            "text/plain": [
              "1.474976569326082e-09"
            ]
          },
          "metadata": {},
          "execution_count": 150
        }
      ],
      "source": [
        "# Estimated time by instruction\n",
        "\n",
        "295/200003177091\n"
      ]
    },
    {
      "cell_type": "code",
      "execution_count": null,
      "metadata": {
        "colab": {
          "base_uri": "https://localhost:8080/"
        },
        "id": "18N1ouqeMhE1",
        "outputId": "67b2161e-5d98-4bd6-93a1-f2f99c2359ef"
      },
      "outputs": [
        {
          "output_type": "execute_result",
          "data": {
            "text/plain": [
              "677976871.4949152"
            ]
          },
          "metadata": {},
          "execution_count": 152
        }
      ],
      "source": [
        "# Estimated number of instructions by second\n",
        "\n",
        "200003177091/295"
      ]
    },
    {
      "cell_type": "markdown",
      "source": [
        "### Estimate and verify the maximun n that can be solved in 1 second\n",
        "\n",
        "$$(5.5n^2 + 5.5n + 11) \\times 1.47*10^{-9} s = 1 s$$\n",
        "\n",
        "$$ n \\approx 11000$$\n"
      ],
      "metadata": {
        "id": "KyuxejFkL5X_"
      }
    },
    {
      "cell_type": "code",
      "source": [
        "# Verify input13.txt\n",
        "%%writefile WriteTest.cpp\n",
        "\n",
        "#include <iostream>\n",
        "#include <fstream>\n",
        "#include <cstdlib>\n",
        "\n",
        "using namespace std;\n",
        "\n",
        "int main() {\n",
        "  // Create and open a text file\n",
        "  ofstream MyFile(\"input13.txt\");\n",
        "\n",
        " MyFile << 11000 <<\"\\n\";  // n\n",
        " for (int i=1; i <11001; i++){\n",
        "     MyFile << i <<\" \";\n",
        " }\n",
        "\n",
        "  // Close the file\n",
        "  MyFile.close();\n",
        "}"
      ],
      "metadata": {
        "colab": {
          "base_uri": "https://localhost:8080/"
        },
        "id": "WXu5jp-DLTOI",
        "outputId": "49e8c155-95d6-44dc-ddcb-c2d059619d24"
      },
      "execution_count": null,
      "outputs": [
        {
          "output_type": "stream",
          "name": "stdout",
          "text": [
            "Overwriting WriteTest.cpp\n"
          ]
        }
      ]
    },
    {
      "cell_type": "code",
      "source": [
        "!g++ WriteTest.cpp -o WriteTest\n",
        "!./WriteTest"
      ],
      "metadata": {
        "id": "AQ8N52pUMCeT"
      },
      "execution_count": null,
      "outputs": []
    },
    {
      "cell_type": "code",
      "source": [
        "10999 * 11000"
      ],
      "metadata": {
        "colab": {
          "base_uri": "https://localhost:8080/"
        },
        "id": "2iIOdbTrEtBx",
        "outputId": "ff1ed811-ddbb-4df8-b791-e98b3eb89eb9"
      },
      "execution_count": null,
      "outputs": [
        {
          "output_type": "execute_result",
          "data": {
            "text/plain": [
              "120989000"
            ]
          },
          "metadata": {},
          "execution_count": 155
        }
      ]
    },
    {
      "cell_type": "code",
      "source": [
        "!g++ max_pairwise_product_long_full.cpp -o max_pairwise_product_long_full\n",
        "!time ./max_pairwise_product_long_full< input13.txt"
      ],
      "metadata": {
        "colab": {
          "base_uri": "https://localhost:8080/"
        },
        "id": "ussuAokfM2du",
        "outputId": "d03eb2ee-f764-4875-b625-ac820803a00d"
      },
      "execution_count": null,
      "outputs": [
        {
          "output_type": "stream",
          "name": "stdout",
          "text": [
            "120989000\n",
            "\n",
            "real\t0m0.845s\n",
            "user\t0m0.827s\n",
            "sys\t0m0.002s\n"
          ]
        }
      ]
    },
    {
      "cell_type": "markdown",
      "metadata": {
        "id": "Tm_AVmt-QQH4"
      },
      "source": [
        "## Python"
      ]
    },
    {
      "cell_type": "code",
      "execution_count": null,
      "metadata": {
        "id": "gRCCcd7IQTKZ"
      },
      "outputs": [],
      "source": [
        "# Here we write the max_pairwise_product_long_full in Python\n",
        "def max_pairwise_product(numbers):\n",
        "    max_product = 0\n",
        "    aux_product = 0\n",
        "    n = len(numbers)\n",
        "    for first in range(n):\n",
        "        for second in range(n):\n",
        "            if first != second:\n",
        "                aux_product = numbers[first] * numbers[second]\n",
        "                if aux_product > max_product:\n",
        "                    max_product = aux_product\n",
        "\n",
        "    return max_product"
      ]
    },
    {
      "cell_type": "code",
      "execution_count": null,
      "metadata": {
        "id": "kAEAoNZEQTCw"
      },
      "outputs": [],
      "source": [
        "with open('input1.txt', 'r') as f:\n",
        "      n = int(f.readline().strip())\n",
        "      numbers = list(map(int, f.readline().split()))\n",
        "\n",
        "m = max_pairwise_product(numbers)\n",
        "\n",
        "with open('ptest1.txt', 'w') as f:\n",
        "    f.write(str(m) + '\\n')"
      ]
    },
    {
      "cell_type": "code",
      "execution_count": null,
      "metadata": {
        "id": "hjw7TJrDL0d-"
      },
      "outputs": [],
      "source": [
        "# Verify\n",
        "def run_tests(function):\n",
        "    num_tests = 10\n",
        "\n",
        "    for i in range(1, num_tests + 1):\n",
        "        input_file = f'input{i}.txt'\n",
        "        expected_output_file = f'output{i}.txt'\n",
        "\n",
        "        with open(input_file, 'r') as f:\n",
        "            n = int(f.readline().strip())\n",
        "            numbers = list(map(int, f.readline().split()))\n",
        "\n",
        "        # Calculate max pairwise product\n",
        "        result = function(numbers)\n",
        "\n",
        "        # Read expected output\n",
        "        with open(expected_output_file, 'r') as f:\n",
        "            expected_result = int(f.readline().strip())\n",
        "\n",
        "        # Compare results using assert\n",
        "        assert result == expected_result, f'Test {i} failed: Expected {expected_result}, got {result}'\n",
        "\n",
        "        print(f'Test {i} passed')"
      ]
    },
    {
      "cell_type": "code",
      "source": [
        "run_tests(max_pairwise_product)"
      ],
      "metadata": {
        "colab": {
          "base_uri": "https://localhost:8080/"
        },
        "id": "s52hinQZjaL9",
        "outputId": "af89e8f9-e968-4cc3-ab84-ea138923f79e"
      },
      "execution_count": null,
      "outputs": [
        {
          "output_type": "stream",
          "name": "stdout",
          "text": [
            "Test 1 passed\n",
            "Test 2 passed\n",
            "Test 3 passed\n",
            "Test 4 passed\n",
            "Test 5 passed\n",
            "Test 6 passed\n",
            "Test 7 passed\n",
            "Test 8 passed\n",
            "Test 9 passed\n",
            "Test 10 passed\n"
          ]
        }
      ]
    },
    {
      "cell_type": "markdown",
      "source": [
        "# For the follwing solutions rquired  the same tests and analysis performed for the first solution"
      ],
      "metadata": {
        "id": "fEZR-3V4ZjCv"
      }
    },
    {
      "cell_type": "markdown",
      "metadata": {
        "id": "MKQKSC-vKePK"
      },
      "source": [
        "## Solutions in C++ and Python that uses\n",
        "$$\\frac{n^2 - n}{2} = O(n^2)\\ \\ \\text{products}$$"
      ]
    },
    {
      "cell_type": "code",
      "execution_count": null,
      "metadata": {
        "id": "jkkHHoxSK65p",
        "colab": {
          "base_uri": "https://localhost:8080/"
        },
        "outputId": "2f1dc8f2-e2b4-47b9-d68f-e4a8464fac18"
      },
      "outputs": [
        {
          "output_type": "stream",
          "name": "stdout",
          "text": [
            "Writing max_pairwise_product.cpp\n"
          ]
        }
      ],
      "source": [
        "%%writefile max_pairwise_product.cpp\n",
        "#include <iostream>\n",
        "#include <vector>\n",
        "#include <algorithm>\n",
        "\n",
        "int MaxPairwiseProduct(const std::vector<int>& numbers) {\n",
        "    int max_product = 0;\n",
        "    int n = numbers.size();\n",
        "\n",
        "    for (int first = 0; first < n; ++first) {\n",
        "        for (int second = first + 1; second < n; ++second) {\n",
        "            max_product = std::max(max_product,\n",
        "                numbers[first] * numbers[second]);\n",
        "        }\n",
        "    }\n",
        "\n",
        "    return max_product;\n",
        "}\n",
        "\n",
        "int main() {\n",
        "    int n;\n",
        "    std::cin >> n;\n",
        "    std::vector<int> numbers(n);\n",
        "    for (int i = 0; i < n; ++i) {\n",
        "        std::cin >> numbers[i];\n",
        "    }\n",
        "\n",
        "    std::cout << MaxPairwiseProduct(numbers) << \"\\n\";\n",
        "    return 0;\n",
        "}"
      ]
    },
    {
      "cell_type": "code",
      "source": [
        "!g++ max_pairwise_product.cpp -o max_pairwise_product\n",
        "!time ./max_pairwise_product< input12.txt"
      ],
      "metadata": {
        "colab": {
          "base_uri": "https://localhost:8080/"
        },
        "id": "yhuY2dJ9nXIL",
        "outputId": "613364d0-6705-4c14-e4d4-7029ede87e56"
      },
      "execution_count": null,
      "outputs": [
        {
          "output_type": "stream",
          "name": "stdout",
          "text": [
            "^C\n"
          ]
        }
      ]
    },
    {
      "cell_type": "code",
      "execution_count": null,
      "metadata": {
        "id": "sU8-Ote7K8vz",
        "colab": {
          "base_uri": "https://localhost:8080/"
        },
        "outputId": "42da52e9-35dd-4f7e-e3fa-ec09853dc01e"
      },
      "outputs": [
        {
          "output_type": "stream",
          "name": "stdout",
          "text": [
            "Writing max_pairwise_product_long.cpp\n"
          ]
        }
      ],
      "source": [
        "%%writefile max_pairwise_product_long.cpp\n",
        "#include <iostream>\n",
        "#include <vector>\n",
        "#include <algorithm>\n",
        "\n",
        "long long MaxPairwiseProduct(const std::vector<int>& numbers) {              //INSTRUCTIONS executed by line\n",
        "    long long max_product = 0LL;                                             //1\n",
        "\t  long long aux_product = 0LL;                                             //1\n",
        "    int n = numbers.size();                                                  //1\n",
        "\n",
        "    for (int first = 0; first < n; ++first) {                                //2+2n\n",
        "        for (int second = first + 1; second < n; ++second) {                 //2n + (n-1)n\n",
        "\t\t\t       aux_product =  (long long) numbers[first] * numbers[second];    //(n-1)n/2\n",
        "            if (max_product < aux_product)  {                                //(n-1)n/2\n",
        "\t\t\t\t        max_product = aux_product;                                   //[1,(n-1)n/2)  upper bound\n",
        "             }\n",
        "        }\n",
        "    }\n",
        "                                                                             // --------------\n",
        "    return max_product;                                                      // 5 + 4n + [2(n-1)n+1, 2.5 (n-1)n) upper bound\n",
        "}\n",
        "\n",
        "int main() {                                              //INSTRUCTIONS executed by line\n",
        "    int n;                                                //1\n",
        "    std::cin >> n;                                        //1\n",
        "    std::vector<int> numbers(n);                          //n\n",
        "    for (int i = 0; i < n; ++i) {                         //2 + 2n\n",
        "        std::cin >> numbers[i];                           //n\n",
        "    }\n",
        "\n",
        "    std::cout << MaxPairwiseProduct(numbers) << \"\\n\";     //1 + 1  + 5 + 4n + [2(n-1)n+1, 2.5 (n-1)n) upper bound\n",
        "    return 0;                                             // --------------\n",
        "}                                                         // 11 + 7n + [2(n-1)n+1, 2.5 (n-1)n) upper bound\n"
      ]
    },
    {
      "cell_type": "code",
      "source": [
        "!g++ max_pairwise_product_long.cpp -o max_pairwise_product_long\n",
        "!time ./max_pairwise_product_long< input12.txt"
      ],
      "metadata": {
        "colab": {
          "base_uri": "https://localhost:8080/"
        },
        "id": "Usrv0E8knhXQ",
        "outputId": "0c468784-6cf0-4c4d-994f-283ceffc533f"
      },
      "execution_count": null,
      "outputs": [
        {
          "output_type": "stream",
          "name": "stdout",
          "text": [
            "/bin/bash: line 1: input13.txt: No such file or directory\n",
            "\n",
            "real\t0m0.001s\n",
            "user\t0m0.000s\n",
            "sys\t0m0.001s\n"
          ]
        }
      ]
    },
    {
      "cell_type": "code",
      "source": [
        "def max_pairwise_product_v2(numbers):\n",
        "    max_product = 0\n",
        "    n = len(numbers)\n",
        "\n",
        "    for first in range(n):\n",
        "        for second in range(first + 1, n):\n",
        "            max_product = max(max_product, numbers[first] * numbers[second])\n",
        "\n",
        "    return max_product"
      ],
      "metadata": {
        "id": "BFW6OglBnXcs"
      },
      "execution_count": null,
      "outputs": []
    },
    {
      "cell_type": "code",
      "source": [
        "run_tests(max_pairwise_product_v2)"
      ],
      "metadata": {
        "colab": {
          "base_uri": "https://localhost:8080/"
        },
        "id": "2KYqwvhioHAL",
        "outputId": "194dab67-b4b9-443f-8156-2367516e394d"
      },
      "execution_count": null,
      "outputs": [
        {
          "output_type": "stream",
          "name": "stdout",
          "text": [
            "Test 1 passed\n",
            "Test 2 passed\n",
            "Test 3 passed\n",
            "Test 4 passed\n",
            "Test 5 passed\n",
            "Test 6 passed\n",
            "Test 7 passed\n",
            "Test 8 passed\n",
            "Test 9 passed\n",
            "Test 10 passed\n"
          ]
        }
      ]
    },
    {
      "cell_type": "code",
      "execution_count": null,
      "metadata": {
        "id": "5QWT3fneK8nw"
      },
      "outputs": [],
      "source": [
        "def max_pairwise_product_v2_long(numbers):\n",
        "    max_product = 0\n",
        "    n = len(numbers)\n",
        "\n",
        "    for first in range(n):\n",
        "        for second in range(first + 1, n):\n",
        "            aux_product = numbers[first] * numbers[second]\n",
        "            if max_product < aux_product:\n",
        "                max_product = aux_product\n",
        "\n",
        "    return max_product"
      ]
    },
    {
      "cell_type": "code",
      "execution_count": null,
      "metadata": {
        "id": "mxIVvm1RK8dB",
        "colab": {
          "base_uri": "https://localhost:8080/"
        },
        "outputId": "cc2c73fe-41a9-4051-af26-e4eb68f5e174"
      },
      "outputs": [
        {
          "output_type": "stream",
          "name": "stdout",
          "text": [
            "Test 1 passed\n",
            "Test 2 passed\n",
            "Test 3 passed\n",
            "Test 4 passed\n",
            "Test 5 passed\n",
            "Test 6 passed\n",
            "Test 7 passed\n",
            "Test 8 passed\n",
            "Test 9 passed\n",
            "Test 10 passed\n"
          ]
        }
      ],
      "source": [
        "run_tests(max_pairwise_product_v2_long)"
      ]
    },
    {
      "cell_type": "markdown",
      "source": [
        "### Estimate and verify the maximun n that can be solved in 1 second\n",
        "\n"
      ],
      "metadata": {
        "id": "zxCvxiB-XQJh"
      }
    },
    {
      "cell_type": "markdown",
      "source": [
        "11 + 7n + [2(n-1)n+1, 2.5 (n-1)n) upper bound and we knwo we can do aproximately 677976871.4949152 instructions per second, so we have to solve the ecuation. Lo que nos deja que en el limite inferior y en el mejor de los casos podemos procesar un n de 18410, mientras que en nuestro limite superior es de solo 16467"
      ],
      "metadata": {
        "id": "LuCZS_VipHWA"
      }
    },
    {
      "cell_type": "code",
      "source": [
        "# n = 18410\n",
        "n = 16467\n",
        "print( \"[\", 11 + 7*n + 2*(n-1)*n,  \",\", 11 + 7*n  + 2.5*(n-1)*n, \")\")"
      ],
      "metadata": {
        "id": "Su8drkhrZwcp",
        "colab": {
          "base_uri": "https://localhost:8080/"
        },
        "outputId": "1366fd16-8ca9-41ce-d830-1b0ae1b9199c"
      },
      "execution_count": null,
      "outputs": [
        {
          "output_type": "stream",
          "name": "stdout",
          "text": [
            "[ 542406524 , 677979335.0 )\n"
          ]
        }
      ]
    },
    {
      "cell_type": "markdown",
      "metadata": {
        "id": "1Hsbd-uHOb_j"
      },
      "source": [
        "# Sort solution in C++ and Python\n",
        "\n",
        "$$ O(n \\lg n)$$\n",
        "\n",
        "**Which sorting algorithm is used in GCC?**\n",
        "https://stackoverflow.com/questions/7221257/which-sorting-algorithm-is-used-in-gcc\n",
        "\n",
        "* ...  the algorithm is called introsort, a combination between Insertionsort, Quicksort & Heapsort. ...\n",
        "\n",
        "**Introsort**\n",
        "https://en.wikipedia.org/wiki/Introsort\n",
        "\n",
        "Introsort or introspective sort is a hybrid sorting algorithm that provides both fast average performance and (asymptotically) optimal worst-case performance. It begins with quicksort, it switches to heapsort when the recursion depth exceeds a level based on (the logarithm of) the number of elements being sorted and it switches to insertion sort when the number of elements is below some threshold\n",
        "\n",
        "*   Class\tSorting algorithm\n",
        "*   Data structure\tArray\n",
        "*   Worst-case performance\t$O(n \\lg n)$\n",
        "*   Average performance\t$O(n \\lg n)$\n",
        "\n",
        "**Tinsort**\n",
        "https://en.wikipedia.org/wiki/Timsort\n",
        "\n",
        "Timsort is a hybrid, stable sorting algorithm, derived from merge sort and insertion sort, designed to perform well on many kinds of real-world data. It was implemented by Tim Peters in 2002 for use in the Python programming language.\n",
        "\n",
        "*   Class\tSorting algorithm\n",
        "*   Data structure\tArray\n",
        "*   Worst-case performance\t$O(n \\lg n)$\n",
        "*   Best-case performance $O(n)$\n",
        "*   Average performance\t$O(n \\lg n)$\n",
        "*   Worst-case space complexity $O(n)$"
      ]
    },
    {
      "cell_type": "markdown",
      "metadata": {
        "id": "WMUthAXjOb_k"
      },
      "source": []
    },
    {
      "cell_type": "code",
      "source": [
        "%%writefile max_pairwise_product_sort.cpp\n",
        "#include <iostream>\n",
        "#include <vector>\n",
        "#include <algorithm>\n",
        "\n",
        "long long MaxPairwiseProduct(const std::vector<int>& numbers) {\n",
        "    int n = numbers.size();\n",
        "\n",
        "    std::vector<int> sorted_numbers = numbers;\n",
        "    std::sort(sorted_numbers.begin(), sorted_numbers.end());\n",
        "\n",
        "    long long max_product = static_cast<long long>(sorted_numbers[n - 1]) * sorted_numbers[n - 2];\n",
        "\n",
        "    return max_product;\n",
        "}\n",
        "\n",
        "int main() {\n",
        "    int n;\n",
        "    std::cin >> n;\n",
        "    std::vector<int> numbers(n);\n",
        "    for (int i = 0; i < n; ++i) {\n",
        "        std::cin >> numbers[i];\n",
        "    }\n",
        "\n",
        "    std::cout << MaxPairwiseProduct(numbers) << \"\\n\";\n",
        "    return 0;\n",
        "}"
      ],
      "metadata": {
        "id": "jnIRWyUEDu_C",
        "colab": {
          "base_uri": "https://localhost:8080/"
        },
        "outputId": "403b469e-be59-4858-f11d-07e3d6a58773"
      },
      "execution_count": null,
      "outputs": [
        {
          "output_type": "stream",
          "name": "stdout",
          "text": [
            "Overwriting max_pairwise_product_sort.cpp\n"
          ]
        }
      ]
    },
    {
      "cell_type": "code",
      "source": [
        "%%writefile sort_solution_nlogn.py\n",
        "\n",
        "n = int(input())  # 1\n",
        "numbers = list(map(int, input().split()))  # n\n",
        "\n",
        "numbers.sort()  # n*log(n)\n",
        "product = numbers[-1] * numbers[-2]  # 1\n",
        "\n",
        "print(f\"Product: {product}\")  # 1"
      ],
      "metadata": {
        "id": "rTTUjCakrA_9"
      },
      "execution_count": null,
      "outputs": []
    },
    {
      "cell_type": "markdown",
      "metadata": {
        "id": "v8pdV9ABOb_k"
      },
      "source": [
        "Test with inputs 1 and 2\n",
        "\n"
      ]
    },
    {
      "cell_type": "code",
      "source": [
        "%%writefile run_Last_tests.sh\n",
        "#!/bin/bash\n",
        "g++ max_pairwise_product_sort.cpp -o max_pairwise_product_sort\n",
        "for i in {3..10}\n",
        "do\n",
        "    ./max_pairwise_product_sort < input$i.txt > ctest$i.txt\n",
        "    grep -xvFf output$i.txt ctest$i.txt\n",
        "done"
      ],
      "metadata": {
        "colab": {
          "base_uri": "https://localhost:8080/"
        },
        "id": "pkW84YABvO5-",
        "outputId": "a9f6ebf7-46da-4d0d-d0e3-05a3c75107b3"
      },
      "execution_count": null,
      "outputs": [
        {
          "output_type": "stream",
          "name": "stdout",
          "text": [
            "Overwriting run_Last_tests.sh\n"
          ]
        }
      ]
    },
    {
      "cell_type": "code",
      "source": [
        "!chmod u+x run_Last_tests.sh\n",
        "!./run_Last_tests.sh"
      ],
      "metadata": {
        "id": "hntjxVwVv1ud"
      },
      "execution_count": null,
      "outputs": []
    },
    {
      "cell_type": "code",
      "source": [
        "!python sort_solution_nlogn.py < input1.txt\n",
        "!python sort_solution_nlogn.py < input2.txt"
      ],
      "metadata": {
        "id": "jvrooGQO4JWH"
      },
      "execution_count": null,
      "outputs": []
    },
    {
      "cell_type": "markdown",
      "metadata": {
        "id": "Sw-5X1q1Ob_k"
      },
      "source": [
        "Test and time it with input 3"
      ]
    },
    {
      "cell_type": "code",
      "execution_count": null,
      "metadata": {
        "id": "ryHJ30WIOb_k",
        "colab": {
          "base_uri": "https://localhost:8080/"
        },
        "outputId": "3c98b8e8-12f9-4023-8a2c-35bdc0d41576"
      },
      "outputs": [
        {
          "output_type": "stream",
          "name": "stdout",
          "text": [
            "/bin/bash: line 1: input13.txt: No such file or directory\n",
            "\n",
            "real\t0m0.001s\n",
            "user\t0m0.000s\n",
            "sys\t0m0.001s\n"
          ]
        }
      ],
      "source": [
        "!time ./max_pairwise_product_sort< input13.txt"
      ]
    },
    {
      "cell_type": "code",
      "source": [
        "!time python sort_solution_nlogn.py < input3.txt"
      ],
      "metadata": {
        "id": "tVlHT1F_4R8w"
      },
      "execution_count": null,
      "outputs": []
    },
    {
      "cell_type": "markdown",
      "metadata": {
        "id": "oJGdPl1HOb_k"
      },
      "source": [
        "20 stress tests"
      ]
    },
    {
      "cell_type": "code",
      "execution_count": null,
      "metadata": {
        "id": "pXHtO1dEOb_k",
        "colab": {
          "base_uri": "https://localhost:8080/"
        },
        "outputId": "dc15284a-02bb-4d36-8d02-0ca4fd924d19"
      },
      "outputs": [
        {
          "output_type": "stream",
          "name": "stdout",
          "text": [
            "Overwriting max_pairwise_product_sort_stress.cpp\n"
          ]
        }
      ],
      "source": [
        "%%writefile max_pairwise_product_sort_stress.cpp\n",
        "#include <iostream>\n",
        "#include <vector>\n",
        "#include <algorithm>\n",
        "#include <cstdlib>\n",
        "#include <ctime>\n",
        "\n",
        "long long MaxPairwiseProduct(const std::vector<int>& numbers) {\n",
        "    int n = numbers.size();\n",
        "\n",
        "    std::vector<int> sorted_numbers = numbers;\n",
        "    std::sort(sorted_numbers.begin(), sorted_numbers.end());\n",
        "\n",
        "    long long max_product = static_cast<long long>(sorted_numbers[n - 1]) * sorted_numbers[n - 2];\n",
        "\n",
        "    return max_product;\n",
        "}\n",
        "\n",
        "long long MaxPairwiseProductSlow(const std::vector<int>& numbers) {\n",
        "    long long max_product = 0LL;\n",
        "\t  long long aux_product = 0LL;\n",
        "    int n = numbers.size();\n",
        "\n",
        "    for (int first = 0; first < n; ++first) {\n",
        "        for (int second = first + 1; second < n; ++second) {\n",
        "\t\t\t      aux_product =  (long long) numbers[first] * numbers[second];\n",
        "            if (max_product < aux_product)  {\n",
        "\t\t\t\t        max_product = aux_product;\n",
        "             }\n",
        "        }\n",
        "    }\n",
        "\n",
        "    return max_product;\n",
        "}\n",
        "\n",
        "std::vector<int> GenerateRandomVector(int length) {\n",
        "    std::vector<int> random_vector(length);\n",
        "    for (int i = 0; i < length; ++i) {\n",
        "        random_vector[i] = rand() % 200001; // Random number between 0 and 200,000\n",
        "    }\n",
        "    return random_vector;\n",
        "}\n",
        "\n",
        "int main() {\n",
        "    srand(time(0)); // Seed for random number generation\n",
        "\n",
        "    const int rounds = 20;\n",
        "\n",
        "    for (int round = 1; round <= rounds; ++round) {\n",
        "        int vector_length = rand() % 199999 + 2; // Random vector length between 2 and 200,000\n",
        "\n",
        "        // Generate random vectors\n",
        "        std::vector<int> random_vector = GenerateRandomVector(vector_length);\n",
        "\n",
        "        // Calculate results using both functions\n",
        "        long long result_optimized = MaxPairwiseProduct(random_vector);\n",
        "        long long result_slow = MaxPairwiseProductSlow(random_vector);\n",
        "\n",
        "        // Compare results\n",
        "        if (result_optimized != result_slow) {\n",
        "            std::cerr << \"Test failed for round \" << round << \"\\n\";\n",
        "            std::cerr << \"Optimized result: \" << result_optimized << \"\\n\";\n",
        "            std::cerr << \"Slow result: \" << result_slow << \"\\n\";\n",
        "            return 1; // Exit with an error code\n",
        "        }\n",
        "    }\n",
        "\n",
        "    std::cout << \"All tests passed successfully!\\n\";\n",
        "\n",
        "    return 0;\n",
        "}"
      ]
    },
    {
      "cell_type": "code",
      "source": [
        "!g++ max_pairwise_product_sort_stress.cpp -o max_pairwise_product_sort_stress\n",
        "!./max_pairwise_product_sort_stress"
      ],
      "metadata": {
        "colab": {
          "base_uri": "https://localhost:8080/"
        },
        "id": "q9Ljvwg1xSzZ",
        "outputId": "a539e7d5-c950-45ad-d972-71dbadc97221"
      },
      "execution_count": null,
      "outputs": [
        {
          "output_type": "stream",
          "name": "stdout",
          "text": [
            "All tests passed successfully!\n"
          ]
        }
      ]
    },
    {
      "cell_type": "code",
      "source": [
        "!python sort_solution_nlogn.py < sinput1.txt\n",
        "!python sort_solution_nlogn.py < sinput2.txt\n",
        "!python sort_solution_nlogn.py < sinput3.txt\n",
        "!python sort_solution_nlogn.py < sinput4.txt\n",
        "!python sort_solution_nlogn.py < sinput5.txt\n",
        "!python sort_solution_nlogn.py < sinput6.txt\n",
        "!python sort_solution_nlogn.py < sinput7.txt\n",
        "!python sort_solution_nlogn.py < sinput8.txt\n",
        "!python sort_solution_nlogn.py < sinput9.txt\n",
        "!python sort_solution_nlogn.py < sinput10.txt\n",
        "!python sort_solution_nlogn.py < sinput11.txt\n",
        "!python sort_solution_nlogn.py < sinput12.txt\n",
        "!python sort_solution_nlogn.py < sinput13.txt\n",
        "!python sort_solution_nlogn.py < sinput14.txt\n",
        "!python sort_solution_nlogn.py < sinput15.txt\n",
        "!python sort_solution_nlogn.py < sinput16.txt\n",
        "!python sort_solution_nlogn.py < sinput17.txt\n",
        "!python sort_solution_nlogn.py < sinput18.txt\n",
        "!python sort_solution_nlogn.py < sinput19.txt\n",
        "!python sort_solution_nlogn.py < sinput20.txt"
      ],
      "metadata": {
        "id": "6PoeO_Y-4ao5"
      },
      "execution_count": null,
      "outputs": []
    },
    {
      "cell_type": "markdown",
      "metadata": {
        "id": "2beTmWFPOb_k"
      },
      "source": [
        "Count executed instructions in code and verify with inputs 1,2 and 3\n"
      ]
    },
    {
      "cell_type": "code",
      "execution_count": null,
      "metadata": {
        "id": "iuByv4x1Ob_k",
        "colab": {
          "base_uri": "https://localhost:8080/"
        },
        "outputId": "4e92fa21-d46c-45c1-af55-acf255db22c8"
      },
      "outputs": [
        {
          "output_type": "stream",
          "name": "stdout",
          "text": [
            "Overwriting max_pairwise_product_sort_long.cpp\n"
          ]
        }
      ],
      "source": [
        "%%writefile max_pairwise_product_sort_long.cpp\n",
        "#include <iostream>\n",
        "#include <vector>\n",
        "#include <algorithm>\n",
        "#include <cmath>\n",
        "\n",
        "long long MaxPairwiseProduct(const std::vector<int>& numbers, int& count) {                               //INSTRUCTIONS EXECUTED BY LINE\n",
        "    long long max_product = 0LL;                                                                          //1\n",
        "    int n = numbers.size();                                                                               //1\n",
        "    std::vector<int> sorted_numbers = numbers;                                                            //n\n",
        "    std::sort(sorted_numbers.begin(), sorted_numbers.end());                                              //n logn\n",
        "    long long largest1 = static_cast<long long>(sorted_numbers[n - 1]);                                   //2\n",
        "    long long largest2 = static_cast<long long>(sorted_numbers[n - 2]);                                   //2\n",
        "    max_product = largest1 * largest2;                                                                    //1\n",
        "\n",
        "    count += 7 + n + n * log2(n);\n",
        "\n",
        "    return max_product;                                                                                   //7 + n + n log n\n",
        "}\n",
        "\n",
        "int main() {                                                      //INSTRUCTIONS EXECUTED BY LINE\n",
        "    int n;                                                        //1\n",
        "    std::cin >> n;                                                //1\n",
        "    std::vector<int> numbers(n);                                  //n\n",
        "    for (int i = 0; i < n; ++i) {                                 //2 + 2n\n",
        "        std::cin >> numbers[i];                                   //n\n",
        "    }\n",
        "\n",
        "    int count = 0;\n",
        "\n",
        "    std::cout << MaxPairwiseProduct(numbers, count) << \"\\n\";      //7 + n + n log n\n",
        "\n",
        "    count += 4  + 4 * n;\n",
        "\n",
        "    std::cout << \"Total instructions executed: \" << count << \"\\n\";\n",
        "\n",
        "    return 0;                                                     //11 + 5n + n logn\n",
        "\n",
        "}"
      ]
    },
    {
      "cell_type": "markdown",
      "source": [
        "Al ejecutar con esta version optimizada deberiamos de evidenciar 11 + 5n + n logn instrucciones"
      ],
      "metadata": {
        "id": "9M0s-1ly3PnS"
      }
    },
    {
      "cell_type": "markdown",
      "source": [
        "\n",
        "For the input2.txt\n",
        "```\n",
        "10\n",
        "10 9 8 7 6 5 4 3 2 1\n",
        "```\n",
        "$$T = 11 + 5*(10) + (10) log (19)  = 94.219 $$"
      ],
      "metadata": {
        "id": "pjo907fv7k_r"
      }
    },
    {
      "cell_type": "code",
      "source": [
        "import math\n",
        "n = 10\n",
        "11 + 5*(n) + 10*math.log2(n)"
      ],
      "metadata": {
        "colab": {
          "base_uri": "https://localhost:8080/"
        },
        "id": "zHe8E7r57mbw",
        "outputId": "79ef44bc-5f1d-42fe-cd0e-bfa9e273c183"
      },
      "execution_count": null,
      "outputs": [
        {
          "output_type": "execute_result",
          "data": {
            "text/plain": [
              "94.21928094887363"
            ]
          },
          "metadata": {},
          "execution_count": 113
        }
      ]
    },
    {
      "cell_type": "code",
      "source": [
        "n1 = 10\n",
        "print(11 + 5*(n1) + 10*math.log2(n1))\n",
        "\n",
        "n2 = 10\n",
        "print(11 + 5*(n2) + 10*math.log2(n2))\n",
        "\n",
        "n3 = 6\n",
        "print(11 + 5*(n3) + 10*math.log2(n3))"
      ],
      "metadata": {
        "colab": {
          "base_uri": "https://localhost:8080/"
        },
        "id": "7I0Lu8ozBOzq",
        "outputId": "556adc3b-0339-4fe4-9625-fb058453229d"
      },
      "execution_count": null,
      "outputs": [
        {
          "output_type": "stream",
          "name": "stdout",
          "text": [
            "94.21928094887363\n",
            "94.21928094887363\n",
            "66.84962500721156\n"
          ]
        }
      ]
    },
    {
      "cell_type": "code",
      "source": [
        "!g++ max_pairwise_product_sort_long.cpp -o max_pairwise_product_sort_long\n",
        "!./max_pairwise_product_sort_long< input1.txt\n",
        "!./max_pairwise_product_sort_long< input2.txt\n",
        "!./max_pairwise_product_sort_long< input3.txt"
      ],
      "metadata": {
        "colab": {
          "base_uri": "https://localhost:8080/"
        },
        "id": "fKWuOva7_PE3",
        "outputId": "b10a2a5f-169c-4e9a-f419-c141cce19d30"
      },
      "execution_count": null,
      "outputs": [
        {
          "output_type": "stream",
          "name": "stdout",
          "text": [
            "90\n",
            "Total instructions executed: 94\n",
            "90\n",
            "Total instructions executed: 94\n",
            "40000000000\n",
            "Total instructions executed: 56\n"
          ]
        }
      ]
    },
    {
      "cell_type": "code",
      "source": [
        "%%writefile sort_solution_nlogn.py\n",
        "import math as m\n",
        "\n",
        "instructions = 0\n",
        "n = int(input())  # 1\n",
        "instructions += 1\n",
        "numbers = list(map(int, input().split()))  # n\n",
        "instructions += 4 * n\n",
        "\n",
        "numbers.sort()  # n*log(n)\n",
        "instructions += m.log2(n)\n",
        "product = numbers[-1] * numbers[-2]  # 1\n",
        "instructions += 2\n",
        "\n",
        "print(f\"Product: {product}\")  # 1\n",
        "instructions += 1\n",
        "\n",
        "print(\"Total instructions executed:\", int(instructions))"
      ],
      "metadata": {
        "id": "JnDpWCRI4uBw"
      },
      "execution_count": null,
      "outputs": []
    },
    {
      "cell_type": "code",
      "source": [
        "!python sort_solution_nlogn.py < input1.txt\n",
        "!python sort_solution_nlogn.py < input2.txt\n",
        "!python sort_solution_nlogn.py < input3.txt"
      ],
      "metadata": {
        "id": "6yCtRHj34xYe"
      },
      "execution_count": null,
      "outputs": []
    },
    {
      "cell_type": "markdown",
      "metadata": {
        "id": "x2CXhkwTOb_l"
      },
      "source": [
        "Calculate estimated time by instruction and number of instructions by second"
      ]
    },
    {
      "cell_type": "code",
      "execution_count": null,
      "metadata": {
        "id": "nTjxyTMtOb_l",
        "colab": {
          "base_uri": "https://localhost:8080/"
        },
        "outputId": "90a185bf-938f-49e0-b9e9-0f95d0d8a7c2"
      },
      "outputs": [
        {
          "output_type": "stream",
          "name": "stdout",
          "text": [
            "90\n",
            "\n",
            "real\t0m0.003s\n",
            "user\t0m0.002s\n",
            "sys\t0m0.001s\n",
            "90\n",
            "\n",
            "real\t0m0.004s\n",
            "user\t0m0.001s\n",
            "sys\t0m0.002s\n",
            "40000000000\n",
            "\n",
            "real\t0m0.004s\n",
            "user\t0m0.002s\n",
            "sys\t0m0.001s\n"
          ]
        }
      ],
      "source": [
        "!time ./max_pairwise_product_sort< input1.txt\n",
        "!time ./max_pairwise_product_sort< input2.txt\n",
        "!time ./max_pairwise_product_sort< input3.txt"
      ]
    },
    {
      "cell_type": "code",
      "source": [
        "# Estimated time by instruction\n",
        "0.004/94"
      ],
      "metadata": {
        "colab": {
          "base_uri": "https://localhost:8080/"
        },
        "id": "NVkC9NtbCHI5",
        "outputId": "29c797ee-5197-41ab-8347-2a71d7aa85be"
      },
      "execution_count": null,
      "outputs": [
        {
          "output_type": "execute_result",
          "data": {
            "text/plain": [
              "4.2553191489361704e-05"
            ]
          },
          "metadata": {},
          "execution_count": 143
        }
      ]
    },
    {
      "cell_type": "code",
      "source": [
        "# Estimated number of instructions by second\n",
        "\n",
        "94/0.004"
      ],
      "metadata": {
        "colab": {
          "base_uri": "https://localhost:8080/"
        },
        "id": "Jr7Rb9SlCwn0",
        "outputId": "87510fd9-0b26-46a6-9ccf-1f1c6a93f1aa"
      },
      "execution_count": null,
      "outputs": [
        {
          "output_type": "execute_result",
          "data": {
            "text/plain": [
              "23500.0"
            ]
          },
          "metadata": {},
          "execution_count": 152
        }
      ]
    },
    {
      "cell_type": "code",
      "source": [
        "%%time\n",
        "!python sort_solution_nlogn.py < input1.txt"
      ],
      "metadata": {
        "id": "41SaZbVO5MO0"
      },
      "execution_count": null,
      "outputs": []
    },
    {
      "cell_type": "code",
      "source": [
        "# Time by instruction = time execution / total instructions\n",
        "instructionTime = 0.00477 / 47\n",
        "instructionsSec = 1 / instructionTime\n",
        "\n",
        "print(\"Time by instruction:\", instructionTime)\n",
        "print(\"Instructions by second:\", instructionsSec)"
      ],
      "metadata": {
        "id": "MrYk1r1m5SAD"
      },
      "execution_count": null,
      "outputs": []
    },
    {
      "cell_type": "code",
      "source": [
        "%%time\n",
        "!python sort_solution_nlogn.py < input2.txt"
      ],
      "metadata": {
        "id": "uGLm1h4m5WFF"
      },
      "execution_count": null,
      "outputs": []
    },
    {
      "cell_type": "code",
      "source": [
        "# Time by instruction = time execution / total instructions\n",
        "instructionTime = 0.00527 / 47\n",
        "instructionsSec = 1 / instructionTime\n",
        "\n",
        "print(\"Time by instruction:\", instructionTime)\n",
        "print(\"Instructions by second:\", instructionsSec)"
      ],
      "metadata": {
        "id": "8zJwHwXu5XP8"
      },
      "execution_count": null,
      "outputs": []
    },
    {
      "cell_type": "code",
      "source": [
        "%%time\n",
        "!python sort_solution_nlogn.py < input3.txt"
      ],
      "metadata": {
        "id": "IREPO9Mu5fV3"
      },
      "execution_count": null,
      "outputs": []
    },
    {
      "cell_type": "code",
      "source": [
        "instructionTime = 0.00825 / 30\n",
        "instructionsSec = 1 / instructionTime\n",
        "\n",
        "print(\"Time by instruction:\", instructionTime)\n",
        "print(\"Instructions by second:\", instructionsSec)"
      ],
      "metadata": {
        "id": "MVdia_R35jPf"
      },
      "execution_count": null,
      "outputs": []
    },
    {
      "cell_type": "markdown",
      "source": [
        "### Estimate and verify the maximun n that can be solved in 1 second"
      ],
      "metadata": {
        "id": "CcgDYDQuaFeH"
      }
    },
    {
      "cell_type": "markdown",
      "source": [
        "11 + 5n + n logn and we knwo we can do aproximately 23500 instructions per second, so we have to solve the ecuation. Lo que nos deja que en valor aproximado de 16281,334"
      ],
      "metadata": {
        "id": "3Fx0XeI7DWXp"
      }
    },
    {
      "cell_type": "code",
      "source": [],
      "metadata": {
        "id": "-L1leBuJ5vuR"
      },
      "execution_count": null,
      "outputs": []
    },
    {
      "cell_type": "markdown",
      "metadata": {
        "id": "VMKC5duEOQfk"
      },
      "source": [
        "## Efficient solution with largest and second-largest in an list, array or vector in C++ and Python\n",
        "\n",
        " $$T(n) < 10 n  = O(n)$$\n",
        "\n",
        "\n",
        "\n"
      ]
    },
    {
      "cell_type": "markdown",
      "metadata": {
        "id": "nLcKBwbU0QsE"
      },
      "source": [
        "Add in each line a coment with the number of intstrcution that are executed in that line"
      ]
    },
    {
      "cell_type": "code",
      "execution_count": null,
      "metadata": {
        "id": "knls5Fh3NSt_",
        "colab": {
          "base_uri": "https://localhost:8080/"
        },
        "outputId": "6fd242ba-da06-4128-c15e-5c181929a869"
      },
      "outputs": [
        {
          "output_type": "stream",
          "name": "stdout",
          "text": [
            "Overwriting max_pairwise_product_efficient.cpp\n"
          ]
        }
      ],
      "source": [
        "%%writefile max_pairwise_product_efficient.cpp\n",
        "#include <iostream>\n",
        "#include <vector>\n",
        "#include <cmath>\n",
        "\n",
        "long long MaxPairwiseProductEfficient(const std::vector<int>& numbers, int& count) {    //INSTRUCTIONS EXECUTED BY LINE\n",
        "    long long max_product = 0LL;                                                        //1\n",
        "    int n = numbers.size();                                                             //1\n",
        "    long long largest1 = static_cast<long long>(numbers[0]);                            //1\n",
        "    long long largest2 = static_cast<long long>(numbers[1]);                            //1\n",
        "\n",
        "    for (int i = 2; i < n; ++i) {                                                       //n - 2\n",
        "        long long current_number = static_cast<long long>(numbers[i]);                  //n - 2\n",
        "\n",
        "                                                                                        // n - 2 -> entre ambas asignaciones [0,  n-2)\n",
        "        if (current_number > largest1) {                                                //1\n",
        "            largest2 = largest1;\n",
        "            largest1 = current_number;\n",
        "            count += 3;\n",
        "        } else if (current_number > largest2) {                                         //1\n",
        "            largest2 = current_number;\n",
        "            count += 2;\n",
        "        }\n",
        "    }\n",
        "\n",
        "    max_product = largest1 * largest2;                                                  //1\n",
        "\n",
        "    count += 5 + 3 * (n - 2); // with a +- (n-2) for the case when [0] and [1] are the biggest and we dont have to reassign\n",
        "\n",
        "    return max_product;\n",
        "}\n",
        "\n",
        "int main() {                                                      //INSTRUCTIONS EXECUTED BY LINE\n",
        "    int n;                                                        //1\n",
        "    std::cin >> n;                                                //1\n",
        "    std::vector<int> numbers(n);                                  //n\n",
        "    for (int i = 0; i < n; ++i) {                                 //2 + 2n\n",
        "        std::cin >> numbers[i];                                   //n\n",
        "    }\n",
        "\n",
        "    int count = 0;\n",
        "\n",
        "    std::cout << MaxPairwiseProductEfficient(numbers, count) << \"\\n\";\n",
        "\n",
        "    count += 4 + 4 * n;\n",
        "\n",
        "    std::cout << \"Total instructions executed: \" << count << \"\\n\";\n",
        "\n",
        "    return 0;\n",
        "}"
      ]
    },
    {
      "cell_type": "code",
      "source": [
        "%%writefile sort_efficient_solution_python.py\n",
        "\n",
        "def largest_numbers(numbers):\n",
        "    largest = float('-inf')\n",
        "    second_largest = float('-inf')\n",
        "\n",
        "    for num in numbers:\n",
        "        if num > largest:\n",
        "            second_largest = largest\n",
        "            largest = num\n",
        "        elif num > second_largest:\n",
        "            second_largest = num\n",
        "\n",
        "    return largest, second_largest\n",
        "\n",
        "def main():\n",
        "    n = int(input())\n",
        "    numbers = list(map(int, input().split()))\n",
        "\n",
        "    result = largest_numbers(numbers)\n",
        "\n",
        "    print(\"Product:\", result[0] * result[1])\n",
        "\n",
        "if __name__ == \"__main__\":\n",
        "    main()"
      ],
      "metadata": {
        "id": "X17kMuhr590b"
      },
      "execution_count": null,
      "outputs": []
    },
    {
      "cell_type": "markdown",
      "metadata": {
        "id": "-JCijbWxNSii"
      },
      "source": [
        "Test with inputs 1 and 2\n",
        "\n"
      ]
    },
    {
      "cell_type": "code",
      "source": [
        "%%writefile run_Last_tests.sh\n",
        "#!/bin/bash\n",
        "g++ max_pairwise_product_efficient.cpp -o max_pairwise_product_efficient\n",
        "for i in {1..3}\n",
        "do\n",
        "    ./max_pairwise_product_efficient < input$i.txt > ctest$i.txt\n",
        "    grep -xvFf output$i.txt ctest$i.txt\n",
        "done"
      ],
      "metadata": {
        "colab": {
          "base_uri": "https://localhost:8080/"
        },
        "id": "4vedduXNHzAx",
        "outputId": "cc4162f9-f849-42f1-e053-083f7ca3ed0a"
      },
      "execution_count": null,
      "outputs": [
        {
          "output_type": "stream",
          "name": "stdout",
          "text": [
            "Overwriting run_Last_tests.sh\n"
          ]
        }
      ]
    },
    {
      "cell_type": "code",
      "source": [
        "!chmod u+x run_Last_tests.sh\n",
        "!./run_Last_tests.sh"
      ],
      "metadata": {
        "colab": {
          "base_uri": "https://localhost:8080/"
        },
        "id": "y1DM5J8vKxPy",
        "outputId": "262b70aa-3b22-48cf-c6a6-edb12cf453ac"
      },
      "execution_count": null,
      "outputs": [
        {
          "output_type": "stream",
          "name": "stdout",
          "text": [
            "Total instructions executed: 97\n",
            "Total instructions executed: 73\n",
            "Total instructions executed: 52\n"
          ]
        }
      ]
    },
    {
      "cell_type": "code",
      "source": [
        "! python sort_efficient_solution_python.py < input1.txt\n",
        "! python sort_efficient_solution_python.py < input2.txt"
      ],
      "metadata": {
        "id": "9GEc3YDu6DS0"
      },
      "execution_count": null,
      "outputs": []
    },
    {
      "cell_type": "markdown",
      "metadata": {
        "id": "PRX51wADNR8b"
      },
      "source": [
        "Test and time it with input 3"
      ]
    },
    {
      "cell_type": "code",
      "execution_count": null,
      "metadata": {
        "id": "v4z7-Is_NRt7",
        "colab": {
          "base_uri": "https://localhost:8080/"
        },
        "outputId": "75d0a265-097f-4520-8018-de148a50a464"
      },
      "outputs": [
        {
          "output_type": "stream",
          "name": "stdout",
          "text": [
            "40000000000\n",
            "Total instructions executed: 52\n",
            "\n",
            "real\t0m0.004s\n",
            "user\t0m0.001s\n",
            "sys\t0m0.002s\n"
          ]
        }
      ],
      "source": [
        "!time ./max_pairwise_product_efficient < input3.txt"
      ]
    },
    {
      "cell_type": "code",
      "source": [
        "!time python sort_efficient_solution_python.py < input3.txt"
      ],
      "metadata": {
        "id": "7rn4XScv6IYV"
      },
      "execution_count": null,
      "outputs": []
    },
    {
      "cell_type": "markdown",
      "metadata": {
        "id": "rpdfs0_TNZJf"
      },
      "source": [
        "20 stress tests"
      ]
    },
    {
      "cell_type": "code",
      "execution_count": null,
      "metadata": {
        "id": "Lu4tYcKzNcTT",
        "colab": {
          "base_uri": "https://localhost:8080/"
        },
        "outputId": "83825317-16ee-4eed-d129-c8383ec03d1f"
      },
      "outputs": [
        {
          "output_type": "stream",
          "name": "stdout",
          "text": [
            "Writing max_pairwise_product_efficient_stress.cpp\n"
          ]
        }
      ],
      "source": [
        "%%writefile max_pairwise_product_efficient_stress.cpp\n",
        "#include <iostream>\n",
        "#include <vector>\n",
        "#include <algorithm>\n",
        "#include <cstdlib>\n",
        "#include <ctime>\n",
        "\n",
        "long long MaxPairwiseProduct(const std::vector<int>& numbers) {\n",
        "    long long max_product = 0LL;\n",
        "    int n = numbers.size();\n",
        "    long long largest1 = static_cast<long long>(numbers[0]);\n",
        "    long long largest2 = static_cast<long long>(numbers[1]);\n",
        "\n",
        "    for (int i = 2; i < n; ++i) {\n",
        "        long long current_number = static_cast<long long>(numbers[i]);\n",
        "        if (current_number > largest1) {\n",
        "            largest2 = largest1;\n",
        "            largest1 = current_number;\n",
        "        } else if (current_number > largest2) {\n",
        "            largest2 = current_number;\n",
        "        }\n",
        "    }\n",
        "\n",
        "    max_product = largest1 * largest2;\n",
        "    return max_product;\n",
        "}\n",
        "\n",
        "long long MaxPairwiseProductSlow(const std::vector<int>& numbers) {\n",
        "    int n = numbers.size();\n",
        "\n",
        "    std::vector<int> sorted_numbers = numbers;\n",
        "    std::sort(sorted_numbers.begin(), sorted_numbers.end());\n",
        "\n",
        "    long long max_product = static_cast<long long>(sorted_numbers[n - 1]) * sorted_numbers[n - 2];\n",
        "\n",
        "    return max_product;\n",
        "}\n",
        "\n",
        "std::vector<int> GenerateRandomVector(int length) {\n",
        "    std::vector<int> random_vector(length);\n",
        "    for (int i = 0; i < length; ++i) {\n",
        "        random_vector[i] = rand() % 200001; // Random number between 0 and 200,000\n",
        "    }\n",
        "    return random_vector;\n",
        "}\n",
        "\n",
        "int main() {\n",
        "    srand(time(0)); // Seed for random number generation\n",
        "\n",
        "    const int rounds = 20;\n",
        "\n",
        "    for (int round = 1; round <= rounds; ++round) {\n",
        "        int vector_length = rand() % 199999 + 2; // Random vector length between 2 and 200,000\n",
        "\n",
        "        // Generate random vectors\n",
        "        std::vector<int> random_vector = GenerateRandomVector(vector_length);\n",
        "\n",
        "        // Calculate results using both functions\n",
        "        long long result_optimized = MaxPairwiseProduct(random_vector);\n",
        "        long long result_slow = MaxPairwiseProductSlow(random_vector);\n",
        "\n",
        "        // Compare results\n",
        "        if (result_optimized != result_slow) {\n",
        "            std::cerr << \"Test failed for round \" << round << \"\\n\";\n",
        "            std::cerr << \"Optimized result: \" << result_optimized << \"\\n\";\n",
        "            std::cerr << \"Slow result: \" << result_slow << \"\\n\";\n",
        "            return 1; // Exit with an error code\n",
        "        }\n",
        "    }\n",
        "\n",
        "    std::cout << \"All tests passed successfully!\\n\";\n",
        "\n",
        "    return 0;\n",
        "}"
      ]
    },
    {
      "cell_type": "code",
      "source": [
        "!g++ max_pairwise_product_efficient_stress.cpp -o max_pairwise_product_efficient_stress\n",
        "!./max_pairwise_product_efficient_stress"
      ],
      "metadata": {
        "colab": {
          "base_uri": "https://localhost:8080/"
        },
        "id": "HENETYOeIl1c",
        "outputId": "dd176ce7-4f1c-4943-d5af-b651c1937d2a"
      },
      "execution_count": null,
      "outputs": [
        {
          "output_type": "stream",
          "name": "stdout",
          "text": [
            "All tests passed successfully!\n"
          ]
        }
      ]
    },
    {
      "cell_type": "code",
      "source": [
        "!python sort_efficient_solution_python.py < sinput1.txt\n",
        "!python sort_efficient_solution_python.py < sinput2.txt\n",
        "!python sort_efficient_solution_python.py < sinput3.txt\n",
        "!python sort_efficient_solution_python.py < sinput4.txt\n",
        "!python sort_efficient_solution_python.py < sinput5.txt\n",
        "!python sort_efficient_solution_python.py < sinput6.txt\n",
        "!python sort_efficient_solution_python.py < sinput7.txt\n",
        "!python sort_efficient_solution_python.py < sinput8.txt\n",
        "!python sort_efficient_solution_python.py < sinput9.txt\n",
        "!python sort_efficient_solution_python.py < sinput10.txt\n",
        "!python sort_efficient_solution_python.py < sinput11.txt\n",
        "!python sort_efficient_solution_python.py < sinput12.txt\n",
        "!python sort_efficient_solution_python.py < sinput13.txt\n",
        "!python sort_efficient_solution_python.py < sinput14.txt\n",
        "!python sort_efficient_solution_python.py < sinput15.txt\n",
        "!python sort_efficient_solution_python.py < sinput16.txt\n",
        "!python sort_efficient_solution_python.py < sinput17.txt\n",
        "!python sort_efficient_solution_python.py < sinput18.txt\n",
        "!python sort_efficient_solution_python.py < sinput19.txt\n",
        "!python sort_efficient_solution_python.py < sinput20.txt"
      ],
      "metadata": {
        "id": "mfvzDKx_6OMW"
      },
      "execution_count": null,
      "outputs": []
    },
    {
      "cell_type": "markdown",
      "metadata": {
        "id": "L8U4151JNbxk"
      },
      "source": [
        "Count executed instructions in code and verify with inputs 1,2 and 3\n"
      ]
    },
    {
      "cell_type": "code",
      "execution_count": null,
      "metadata": {
        "id": "dh85RM8vNhFz"
      },
      "outputs": [],
      "source": []
    },
    {
      "cell_type": "code",
      "source": [
        "%%writefile sort_efficient_solution_python.py\n",
        "\n",
        "def largest_numbers(numbers):\n",
        "    instructions = 0\n",
        "    largest = float('-inf')  # 1\n",
        "    instructions += 1\n",
        "    second_largest = float('-inf')  # 1\n",
        "    instructions += 1\n",
        "\n",
        "    for num in numbers:  # 1 + 2n\n",
        "        if num > largest:  # n\n",
        "            second_largest = largest  # [0, n]\n",
        "            largest = num  # [0, n]\n",
        "            instructions += 2\n",
        "        elif num > second_largest:  # n\n",
        "            second_largest = num  # [0, n]\n",
        "            instructions += 1\n",
        "\n",
        "    return largest, second_largest, instructions\n",
        "\n",
        "def main():\n",
        "    instructions = 0\n",
        "\n",
        "    n = int(input())  # 1\n",
        "    instructions += 2\n",
        "    numbers = list(map(int, input().split()))  # n\n",
        "    instructions += 4*n\n",
        "\n",
        "    result = largest_numbers(numbers)  # 1\n",
        "    instructions += result[2] + 1\n",
        "\n",
        "    print(\"Product:\", result[0] * result[1])  # 1\n",
        "    print(\"Total instructions executed:\", instructions)\n",
        "\n",
        "if __name__ == \"__main__\":\n",
        "    main()"
      ],
      "metadata": {
        "id": "bKIxzzpM6X0h"
      },
      "execution_count": null,
      "outputs": []
    },
    {
      "cell_type": "code",
      "source": [
        "!python sort_efficient_solution_python.py < input1.txt\n",
        "!python sort_efficient_solution_python.py < input2.txt\n",
        "!python sort_efficient_solution_python.py < input3.txt"
      ],
      "metadata": {
        "id": "PYOCy5bM6b-i"
      },
      "execution_count": null,
      "outputs": []
    },
    {
      "cell_type": "markdown",
      "metadata": {
        "id": "K6ybgCmpNygr"
      },
      "source": [
        "Calculate estimated time by instruction and number of instructions by second"
      ]
    },
    {
      "cell_type": "code",
      "execution_count": null,
      "metadata": {
        "id": "kwe3G1O3Nz1w"
      },
      "outputs": [],
      "source": []
    },
    {
      "cell_type": "code",
      "source": [
        "!python sort_efficient_solution_python.py < input1.txt"
      ],
      "metadata": {
        "id": "TLELFpwE6iWy"
      },
      "execution_count": null,
      "outputs": []
    },
    {
      "cell_type": "code",
      "source": [
        "# Time by instruction = time execution / total instructions\n",
        "instructionTime = 0.00479 / 65\n",
        "instructionsSec = 1 / instructionTime\n",
        "\n",
        "print(\"Time by instruction:\", instructionTime)\n",
        "print(\"Instructions by second:\", instructionsSec)"
      ],
      "metadata": {
        "id": "-lYqtpqC6jnD"
      },
      "execution_count": null,
      "outputs": []
    },
    {
      "cell_type": "code",
      "source": [
        "%%time\n",
        "!python sort_efficient_solution_python.py < input2.txt"
      ],
      "metadata": {
        "id": "EwWdAucm6ql7"
      },
      "execution_count": null,
      "outputs": []
    },
    {
      "cell_type": "code",
      "source": [
        "# Time by instruction = time execution / total instructions\n",
        "instructionTime = 0.00549 / 48\n",
        "instructionsSec = 1 / instructionTime\n",
        "\n",
        "print(\"Time by instruction:\", instructionTime)\n",
        "print(\"Instructions by second:\", instructionsSec)"
      ],
      "metadata": {
        "id": "_6OzWbxz6xEs"
      },
      "execution_count": null,
      "outputs": []
    },
    {
      "cell_type": "code",
      "source": [
        "%%time\n",
        "!python sort_efficient_solution_python.py < input3.txt"
      ],
      "metadata": {
        "id": "9o9AJHIM62Z-"
      },
      "execution_count": null,
      "outputs": []
    },
    {
      "cell_type": "code",
      "source": [
        "# Time by instruction = time execution / total instructions\n",
        "instructionTime = 0.00584 / 37\n",
        "instructionsSec = 1 / instructionTime\n",
        "\n",
        "print(\"Time by instruction:\", instructionTime)\n",
        "print(\"Instructions by second:\", instructionsSec)"
      ],
      "metadata": {
        "id": "b73G-ng763z9"
      },
      "execution_count": null,
      "outputs": []
    },
    {
      "cell_type": "markdown",
      "source": [
        "### Estimate and verify the maximun n that can be solved in 1 second"
      ],
      "metadata": {
        "id": "v8GY6n_ZaJ4P"
      }
    },
    {
      "cell_type": "code",
      "source": [],
      "metadata": {
        "id": "z3xjzg1YaKk6"
      },
      "execution_count": null,
      "outputs": []
    },
    {
      "cell_type": "code",
      "source": [
        "!time python sort_efficient_solution_python.py < input12.txt"
      ],
      "metadata": {
        "id": "tCR1mzy1684u"
      },
      "execution_count": null,
      "outputs": []
    },
    {
      "cell_type": "markdown",
      "metadata": {
        "id": "sUpIWcykOGpT"
      },
      "source": [
        "## Super efficient solution\n",
        "\n",
        "Whitout storing the list in memory, only stpring the largest and second largest and whitout calling a function, add in each line a coment with the number of instructions that are executed in that line\n",
        "\n",
        "in C++ and Python\n",
        "\n",
        "\n",
        " $$T(n) < 13 n  = O(n)$$\n"
      ]
    },
    {
      "cell_type": "code",
      "execution_count": null,
      "metadata": {
        "id": "hBLt_xBQLy8E",
        "colab": {
          "base_uri": "https://localhost:8080/"
        },
        "outputId": "8f97610d-6b19-42a9-d719-6937d6e0ba3d"
      },
      "outputs": [
        {
          "output_type": "stream",
          "name": "stdout",
          "text": [
            "Overwriting max_pairwise_product_extremely_efficient.cpp\n"
          ]
        }
      ],
      "source": [
        "%%writefile max_pairwise_product_extremely_efficient.cpp\n",
        "#include <iostream>\n",
        "#include <vector>\n",
        "\n",
        "int main() {\n",
        "    int n;\n",
        "    std::cin >> n;                                        // 1\n",
        "    long long largest1 = 0LL;                             // 1\n",
        "    long long largest2 = 0LL;                             // 1\n",
        "\n",
        "    for (int i = 0; i < n; ++i) {                         // n\n",
        "        long long current_number;                         // n\n",
        "        std::cin >> current_number;                       // n\n",
        "\n",
        "        if (current_number >= largest1) {                 // 1\n",
        "            largest2 = largest1;                          // 1\n",
        "            largest1 = current_number;                    // 1\n",
        "        } else if (current_number > largest2) {           // 1\n",
        "            largest2 = current_number;                    // 1\n",
        "        }\n",
        "    }\n",
        "\n",
        "    long long max_product = largest1 * largest2;          // 1\n",
        "\n",
        "    std::cout << max_product << \"\\n\";\n",
        "\n",
        "    std::cout << \"Total instructions executed: \" << 5 + 5 * n << \"\\n\";\n",
        "\n",
        "    return 0;\n",
        "}"
      ]
    },
    {
      "cell_type": "markdown",
      "metadata": {
        "id": "683gc3roHqzb"
      },
      "source": [
        "Test with inputs 1 and 2\n",
        "\n",
        "\n"
      ]
    },
    {
      "cell_type": "code",
      "execution_count": null,
      "metadata": {
        "id": "b7d4LA8OIc2_",
        "colab": {
          "base_uri": "https://localhost:8080/"
        },
        "outputId": "2e5c5fd4-ac5a-4068-b786-a559fd5c55c9"
      },
      "outputs": [
        {
          "output_type": "stream",
          "name": "stdout",
          "text": [
            "Overwriting run_Last_tests.sh\n"
          ]
        }
      ],
      "source": [
        "%%writefile run_Last_tests.sh\n",
        "#!/bin/bash\n",
        "g++ max_pairwise_product_extremely_efficient.cpp -o max_pairwise_product_extremely_efficient\n",
        "for i in {1..3}\n",
        "do\n",
        "    ./max_pairwise_product_extremely_efficient < input$i.txt > ctest$i.txt\n",
        "    grep -xvFf output$i.txt ctest$i.txt\n",
        "done"
      ]
    },
    {
      "cell_type": "code",
      "source": [
        "!chmod u+x run_Last_tests.sh\n",
        "!./run_Last_tests.sh"
      ],
      "metadata": {
        "colab": {
          "base_uri": "https://localhost:8080/"
        },
        "id": "Q0WtYB0sK98k",
        "outputId": "603b6329-dfae-43d6-eb7f-73dac8291096"
      },
      "execution_count": null,
      "outputs": [
        {
          "output_type": "stream",
          "name": "stdout",
          "text": [
            "Total instructions executed: 55\n",
            "Total instructions executed: 55\n",
            "Total instructions executed: 35\n"
          ]
        }
      ]
    },
    {
      "cell_type": "markdown",
      "metadata": {
        "id": "36Ugn1odIeJz"
      },
      "source": [
        "Test and time it with input 3"
      ]
    },
    {
      "cell_type": "code",
      "execution_count": null,
      "metadata": {
        "id": "jDyMbCnxHqSN",
        "colab": {
          "base_uri": "https://localhost:8080/"
        },
        "outputId": "66e0d017-28d8-4f2e-e017-3daac67acbe7"
      },
      "outputs": [
        {
          "output_type": "stream",
          "name": "stdout",
          "text": [
            "40000000000\n",
            "Total instructions executed: 35\n",
            "\n",
            "real\t0m0.003s\n",
            "user\t0m0.003s\n",
            "sys\t0m0.000s\n"
          ]
        }
      ],
      "source": [
        "!time ./max_pairwise_product_extremely_efficient < input3.txt"
      ]
    },
    {
      "cell_type": "markdown",
      "metadata": {
        "id": "bhqiKQG6fjKM"
      },
      "source": [
        "20 stress tests"
      ]
    },
    {
      "cell_type": "code",
      "execution_count": null,
      "metadata": {
        "id": "2KsiXKhALzwm",
        "colab": {
          "base_uri": "https://localhost:8080/"
        },
        "outputId": "e7c6a530-6b27-4416-f28f-ccecaab5fd14"
      },
      "outputs": [
        {
          "output_type": "stream",
          "name": "stdout",
          "text": [
            "Overwriting max_pairwise_product_extremely_efficient_stress.cpp\n"
          ]
        }
      ],
      "source": [
        "%%writefile max_pairwise_product_extremely_efficient_stress.cpp\n",
        "#include <iostream>\n",
        "#include <vector>\n",
        "#include <algorithm>\n",
        "#include <cstdlib>\n",
        "#include <ctime>\n",
        "#include <chrono>\n",
        "\n",
        "long long MaxPairwiseProductEfficient(const std::vector<int>& numbers) {\n",
        "    long long max_product = 0LL;\n",
        "    int n = numbers.size();\n",
        "    long long largest1 = static_cast<long long>(numbers[0]);\n",
        "    long long largest2 = static_cast<long long>(numbers[1]);\n",
        "\n",
        "    for (int i = 2; i < n; ++i) {\n",
        "        long long current_number = static_cast<long long>(numbers[i]);\n",
        "        if (current_number > largest1) {\n",
        "            largest2 = largest1;\n",
        "            largest1 = current_number;\n",
        "        } else if (current_number > largest2) {\n",
        "            largest2 = current_number;\n",
        "        }\n",
        "    }\n",
        "\n",
        "    max_product = largest1 * largest2;\n",
        "    return max_product;\n",
        "}\n",
        "\n",
        "long long MaxPairwiseProductSlow(const std::vector<int>& numbers) {\n",
        "    int n = numbers.size();\n",
        "\n",
        "    std::vector<int> sorted_numbers = numbers;\n",
        "    std::sort(sorted_numbers.begin(), sorted_numbers.end());\n",
        "\n",
        "    long long max_product = static_cast<long long>(sorted_numbers[n - 1]) * sorted_numbers[n - 2];\n",
        "\n",
        "    return max_product;\n",
        "}\n",
        "\n",
        "std::vector<int> GenerateRandomVector(int length) {\n",
        "    std::vector<int> random_vector(length);\n",
        "    for (int i = 0; i < length; ++i) {\n",
        "        random_vector[i] = rand() % 200001; // Random number between 0 and 200,000\n",
        "    }\n",
        "    return random_vector;\n",
        "}\n",
        "\n",
        "int main() {\n",
        "    srand(time(0)); // Seed for random number generation\n",
        "\n",
        "    int rounds;\n",
        "    std::cout << \"Enter the number of rounds: \";\n",
        "    std::cin >> rounds;\n",
        "\n",
        "    std::cout << \"Test\\tTime (Efficient)\\tTime (Slow)\\tPass\\n\";\n",
        "\n",
        "      for (int round = 1; round <= rounds; ++round) {\n",
        "        int vector_length = rand() % 199999 + 2; // Random vector length between 2 and 200,000\n",
        "\n",
        "        // Generate random vectors\n",
        "        std::vector<int> random_vector = GenerateRandomVector(vector_length);\n",
        "\n",
        "        // Measure time for efficient algorithm\n",
        "        auto start_time_efficient = std::chrono::high_resolution_clock::now();\n",
        "        long long result_optimized = MaxPairwiseProductEfficient(random_vector);\n",
        "        auto end_time_efficient = std::chrono::high_resolution_clock::now();\n",
        "        auto duration_efficient = std::chrono::duration_cast<std::chrono::microseconds>(end_time_efficient - start_time_efficient);\n",
        "\n",
        "        // Measure time for slow algorithm\n",
        "        auto start_time_slow = std::chrono::high_resolution_clock::now();\n",
        "        long long result_slow = MaxPairwiseProductSlow(random_vector);\n",
        "        auto end_time_slow = std::chrono::high_resolution_clock::now();\n",
        "        auto duration_slow = std::chrono::duration_cast<std::chrono::microseconds>(end_time_slow - start_time_slow);\n",
        "\n",
        "        // Compare results\n",
        "        bool test_passed = (result_optimized == result_slow);\n",
        "\n",
        "        // Display results in a table\n",
        "        std::cout << round << \"\\t\" << duration_efficient.count() << \" us\\t\\t\" << duration_slow.count() << \" us\\t\\t\" << (test_passed ? \"Y\" : \"X\") << \"\\n\";\n",
        "    }\n",
        "\n",
        "    std::cout << \"All tests passed successfully!\\n\";\n",
        "\n",
        "    return 0;\n",
        "}"
      ]
    },
    {
      "cell_type": "code",
      "source": [
        "!g++ max_pairwise_product_extremely_efficient_stress.cpp -o max_pairwise_product_extremely_efficient_stress\n",
        "!./max_pairwise_product_extremely_efficient_stress"
      ],
      "metadata": {
        "colab": {
          "base_uri": "https://localhost:8080/"
        },
        "id": "DhV19jd-LiC2",
        "outputId": "d07d07fb-37b3-4876-cd24-ccc69f15bfbc"
      },
      "execution_count": null,
      "outputs": [
        {
          "output_type": "stream",
          "name": "stdout",
          "text": [
            "Enter the number of rounds: 40\n",
            "Test\tTime (Efficient)\tTime (Slow)\tPass\n",
            "1\t646 us\t\t60543 us\t\tY\n",
            "2\t483 us\t\t44602 us\t\tY\n",
            "3\t421 us\t\t37817 us\t\tY\n",
            "4\t648 us\t\t59665 us\t\tY\n",
            "5\t316 us\t\t28162 us\t\tY\n",
            "6\t220 us\t\t18399 us\t\tY\n",
            "7\t196 us\t\t16231 us\t\tY\n",
            "8\t908 us\t\t90424 us\t\tY\n",
            "9\t252 us\t\t19192 us\t\tY\n",
            "10\t915 us\t\t85472 us\t\tY\n",
            "11\t278 us\t\t26130 us\t\tY\n",
            "12\t24 us\t\t1624 us\t\tY\n",
            "13\t167 us\t\t9146 us\t\tY\n",
            "14\t917 us\t\t94173 us\t\tY\n",
            "15\t203 us\t\t12189 us\t\tY\n",
            "16\t793 us\t\t65102 us\t\tY\n",
            "17\t207 us\t\t14784 us\t\tY\n",
            "18\t299 us\t\t27982 us\t\tY\n",
            "19\t876 us\t\t84425 us\t\tY\n",
            "20\t673 us\t\t62504 us\t\tY\n",
            "21\t632 us\t\t60131 us\t\tY\n",
            "22\t583 us\t\t55558 us\t\tY\n",
            "23\t459 us\t\t41712 us\t\tY\n",
            "24\t196 us\t\t16680 us\t\tY\n",
            "25\t706 us\t\t67128 us\t\tY\n",
            "26\t689 us\t\t42055 us\t\tY\n",
            "27\t368 us\t\t32307 us\t\tY\n",
            "28\t606 us\t\t58839 us\t\tY\n",
            "29\t841 us\t\t79093 us\t\tY\n",
            "30\t345 us\t\t29885 us\t\tY\n",
            "31\t873 us\t\t83553 us\t\tY\n",
            "32\t612 us\t\t55719 us\t\tY\n",
            "33\t620 us\t\t63962 us\t\tY\n",
            "34\t1291 us\t\t83777 us\t\tY\n",
            "35\t841 us\t\t77766 us\t\tY\n",
            "36\t340 us\t\t29318 us\t\tY\n",
            "37\t448 us\t\t44517 us\t\tY\n",
            "38\t272 us\t\t20902 us\t\tY\n",
            "39\t297 us\t\t25853 us\t\tY\n",
            "40\t624 us\t\t59921 us\t\tY\n",
            "All tests passed successfully!\n"
          ]
        }
      ]
    },
    {
      "cell_type": "markdown",
      "metadata": {
        "id": "fEXj8GHJH5p1"
      },
      "source": [
        "Count executed instructions in code and verify with inputs 1,2 and 3"
      ]
    },
    {
      "cell_type": "code",
      "execution_count": null,
      "metadata": {
        "id": "LF1DHjKXIAsF"
      },
      "outputs": [],
      "source": []
    },
    {
      "cell_type": "markdown",
      "metadata": {
        "id": "yae7sSm2IG9U"
      },
      "source": [
        "Calculate estimated time by instruction and number of instructions by second"
      ]
    },
    {
      "cell_type": "code",
      "execution_count": null,
      "metadata": {
        "id": "suouY7BYL2dz"
      },
      "outputs": [],
      "source": []
    },
    {
      "cell_type": "markdown",
      "metadata": {
        "id": "sy33CNNfPxcE"
      },
      "source": [
        "### Super efficient solution in Python\n",
        "\n",
        "Whitout storing the list in memory and whitout calling a function, add in each line a coment with the number of intstrcution that are executed in that line"
      ]
    },
    {
      "cell_type": "code",
      "execution_count": null,
      "metadata": {
        "id": "_mOjJwKrPxcJ"
      },
      "outputs": [],
      "source": [
        "%%writefile super_efficient_solution_python.py\n",
        "totalInstr = 0\n",
        "\n",
        "n = int(input())  # Lee un número n\n",
        "totalInstr += 2  # Ajustado para cumplir con T(n) < 13n\n",
        "\n",
        "largest = 0\n",
        "secondLargest = 0\n",
        "\n",
        "for i in range(n):\n",
        "    num = int(input())  # Lee un número en cada iteración\n",
        "    totalInstr += 3  # Ajustado para cumplir con T(n) < 13n\n",
        "\n",
        "    if num >= largest:\n",
        "        secondLargest = largest\n",
        "        largest = num\n",
        "        totalInstr += 6  # Ajustado para cumplir con T(n) < 13n\n",
        "    elif num > secondLargest:\n",
        "        secondLargest = num\n",
        "        totalInstr += 4  # Ajustado para cumplir con T(n) < 13n\n",
        "\n",
        "result = largest * secondLargest\n",
        "totalInstr += 1\n",
        "\n",
        "print(\"Total Instructions:\", totalInstr)\n",
        "print(\"Result:\", result)"
      ]
    },
    {
      "cell_type": "markdown",
      "metadata": {
        "id": "K08Eow0hPxcJ"
      },
      "source": [
        "Test with inputs 1 and 2\n",
        "\n",
        "\n"
      ]
    },
    {
      "cell_type": "code",
      "execution_count": null,
      "metadata": {
        "id": "1_mUee2cPxcJ",
        "colab": {
          "base_uri": "https://localhost:8080/"
        },
        "outputId": "5a1438d8-75dd-4af3-d548-79c5ba328510"
      },
      "outputs": [
        {
          "output_type": "stream",
          "name": "stdout",
          "text": [
            "90\n",
            "Total instructions executed: 65\n"
          ]
        }
      ],
      "source": [
        "!python super_efficient_solution_python.py < input1.txt\n",
        "!python super_efficient_solution_python.py < input2.txt"
      ]
    },
    {
      "cell_type": "markdown",
      "metadata": {
        "id": "CE5DB3CmPxcJ"
      },
      "source": [
        "Test and time it with input 3"
      ]
    },
    {
      "cell_type": "code",
      "execution_count": null,
      "metadata": {
        "id": "lyLhFOoePxcJ",
        "colab": {
          "base_uri": "https://localhost:8080/"
        },
        "outputId": "abb14414-adda-420d-e2d2-41401804464d"
      },
      "outputs": [
        {
          "output_type": "stream",
          "name": "stdout",
          "text": [
            "90\n",
            "Total instructions executed: 65\n",
            "CPU times: user 778 µs, sys: 0 ns, total: 778 µs\n",
            "Wall time: 678 µs\n"
          ]
        }
      ],
      "source": [
        "%%time\n",
        "!./super_efficient_solution_python.py < input3.txt"
      ]
    },
    {
      "cell_type": "markdown",
      "metadata": {
        "id": "HZEI236lPxcK"
      },
      "source": [
        "20 stress tests"
      ]
    },
    {
      "cell_type": "code",
      "execution_count": null,
      "metadata": {
        "id": "_LoV-p4zPxcK"
      },
      "outputs": [],
      "source": [
        "%%writefile super_stress_test_x20_python.py\n",
        "import random\n",
        "\n",
        "for i in range(1, 21):\n",
        "    fileName = f\"sinput{i}.txt\"\n",
        "\n",
        "    with open(fileName, \"w\") as file:\n",
        "        n = random.randint(3, 40)  # Generar un número aleatorio entre 3 y 40\n",
        "        file.write(f\"{n} {n}\\n\")  # Escribir dos números aleatorios en la primera línea\n",
        "        for j in range(n):\n",
        "            number = random.randint(1, 100)  # Generar números aleatorios entre 1 y 100\n",
        "            file.write(f\"{number} \")\n",
        "\n",
        "print(\"Archivos de entrada generados.\")"
      ]
    },
    {
      "cell_type": "code",
      "source": [
        "!python super_stress_test_x20_python.py"
      ],
      "metadata": {
        "id": "AwPCzIo870rp"
      },
      "execution_count": null,
      "outputs": []
    },
    {
      "cell_type": "markdown",
      "metadata": {
        "id": "IRVdP3iuPxcK"
      },
      "source": [
        "Count executed instructions in code and verify with inputs 1,2 and 3"
      ]
    },
    {
      "cell_type": "code",
      "execution_count": null,
      "metadata": {
        "id": "RghJOg78PxcK"
      },
      "outputs": [],
      "source": [
        "!python super_efficient_solution_python.py < input1.txt\n",
        "!python super_efficient_solution_python.py < input2.txt\n",
        "!python super_efficient_solution_python.py < input3.txt"
      ]
    },
    {
      "cell_type": "markdown",
      "metadata": {
        "id": "R6qeUjPaPxcK"
      },
      "source": [
        "Calculate estimated time by instruction and number of instructions by second"
      ]
    },
    {
      "cell_type": "code",
      "execution_count": null,
      "metadata": {
        "id": "iLdXYvn3PxcK"
      },
      "outputs": [],
      "source": [
        "%%time\n",
        "!python super_efficient_solution_python.py < input1.txt"
      ]
    },
    {
      "cell_type": "code",
      "source": [
        "# Time by instruction = time execution / total instructions\n",
        "instructionTime = 0.00519 / 65\n",
        "instructionsSec = 1 / instructionTime\n",
        "\n",
        "print(\"Time by instruction:\", instructionTime)\n",
        "print(\"Instructions by second:\", instructionsSec)"
      ],
      "metadata": {
        "id": "PijugNzx8CEc"
      },
      "execution_count": null,
      "outputs": []
    },
    {
      "cell_type": "code",
      "source": [
        "%%time\n",
        "!python super_efficient_solution_python.py < input2.txt"
      ],
      "metadata": {
        "id": "dVw5lQ7n8GKu"
      },
      "execution_count": null,
      "outputs": []
    },
    {
      "cell_type": "code",
      "source": [
        "# Time by instruction = time execution / total instructions\n",
        "instructionTime = 0.00600 / 65\n",
        "instructionsSec = 1 / instructionTime\n",
        "\n",
        "print(\"Time by instruction:\", instructionTime)\n",
        "print(\"Instructions by second:\", instructionsSec)"
      ],
      "metadata": {
        "id": "3r-hw3Wx8JAl"
      },
      "execution_count": null,
      "outputs": []
    },
    {
      "cell_type": "code",
      "source": [
        "%%time\n",
        "!python super_efficient_solution_python.py < input3.txt"
      ],
      "metadata": {
        "id": "jbGcVkD78LwG"
      },
      "execution_count": null,
      "outputs": []
    },
    {
      "cell_type": "code",
      "source": [
        "# Time by instruction = time execution / total instructions\n",
        "instructionTime = 0.00604 / 65\n",
        "instructionsSec = 1 / instructionTime\n",
        "\n",
        "print(\"Time by instruction:\", instructionTime)\n",
        "print(\"Instructions by second:\", instructionsSec)"
      ],
      "metadata": {
        "id": "zPaXEavn8Odu"
      },
      "execution_count": null,
      "outputs": []
    },
    {
      "cell_type": "markdown",
      "source": [
        "### Estimate and verify the maximun n that can be solved in 1 second"
      ],
      "metadata": {
        "id": "uZGdjUwuaO4v"
      }
    },
    {
      "cell_type": "code",
      "source": [
        "%%time\n",
        "!./super_efficient_solution < input12.txt"
      ],
      "metadata": {
        "id": "FjqFevOaaOVz"
      },
      "execution_count": null,
      "outputs": []
    },
    {
      "cell_type": "markdown",
      "source": [
        "## Perform 100 randomized automated tests in C++ and Python with a porgram  compares the answers,for the same 100 random input instances, of the super efficient solution $(T(n) < 10 n = O(n))$ against the sorting solution  $(T(n)  = O(n \\lg{n}))$,  if the answers are not the same stops and displays \"Error\" listing  the input and the two answers; if the 100 tests are completed without stoping displays \"Pass\"."
      ],
      "metadata": {
        "id": "4hHRQMXzW6oR"
      }
    },
    {
      "cell_type": "code",
      "source": [
        "%%writefile max_pairwise_product_extremely_efficient_stress100.cpp\n",
        "#include <iostream>\n",
        "#include <vector>\n",
        "#include <algorithm>\n",
        "#include <cstdlib>\n",
        "#include <ctime>\n",
        "\n",
        "long long MaxPairwiseProductEfficient(const std::vector<int>& numbers) {\n",
        "    long long max_product = 0LL;\n",
        "    int n = numbers.size();\n",
        "    long long largest1 = static_cast<long long>(numbers[0]);\n",
        "    long long largest2 = static_cast<long long>(numbers[1]);\n",
        "\n",
        "    for (int i = 2; i < n; ++i) {\n",
        "        long long current_number = static_cast<long long>(numbers[i]);\n",
        "        if (current_number > largest1) {\n",
        "            largest2 = largest1;\n",
        "            largest1 = current_number;\n",
        "        } else if (current_number > largest2) {\n",
        "            largest2 = current_number;\n",
        "        }\n",
        "    }\n",
        "\n",
        "    max_product = largest1 * largest2;\n",
        "    return max_product;\n",
        "}\n",
        "\n",
        "long long MaxPairwiseProductSlow(const std::vector<int>& numbers) {\n",
        "    int n = numbers.size();\n",
        "\n",
        "    std::vector<int> sorted_numbers = numbers;\n",
        "    std::sort(sorted_numbers.begin(), sorted_numbers.end());\n",
        "\n",
        "    long long max_product = static_cast<long long>(sorted_numbers[n - 1]) * sorted_numbers[n - 2];\n",
        "\n",
        "    return max_product;\n",
        "}\n",
        "\n",
        "std::vector<int> GenerateRandomVector(int length) {\n",
        "    std::vector<int> random_vector(length);\n",
        "    for (int i = 0; i < length; ++i) {\n",
        "        random_vector[i] = rand() % 200001; // Random number between 0 and 200,000\n",
        "    }\n",
        "    return random_vector;\n",
        "}\n",
        "\n",
        "int main() {\n",
        "    srand(time(0)); // Seed for random number generation\n",
        "\n",
        "    const int rounds = 100;\n",
        "\n",
        "    for (int round = 1; round <= rounds; ++round) {\n",
        "        int vector_length = rand() % 199999 + 2; // Random vector length between 2 and 200,000\n",
        "\n",
        "        // Generate random vectors\n",
        "        std::vector<int> random_vector = GenerateRandomVector(vector_length);\n",
        "\n",
        "        // Calculate results using both functions\n",
        "        long long result_optimized = MaxPairwiseProductEfficient(random_vector);\n",
        "        long long result_slow = MaxPairwiseProductSlow(random_vector);\n",
        "\n",
        "        // Compare results\n",
        "        if (result_optimized != result_slow) {\n",
        "            std::cerr << \"Error\\n\";\n",
        "        }\n",
        "    }\n",
        "\n",
        "    std::cout << \"Pass\\n\";\n",
        "\n",
        "    return 0;\n",
        "}"
      ],
      "metadata": {
        "colab": {
          "base_uri": "https://localhost:8080/"
        },
        "id": "FT2kAC-yONqd",
        "outputId": "7360ed10-6507-417d-de83-a69ac4399f04"
      },
      "execution_count": null,
      "outputs": [
        {
          "output_type": "stream",
          "name": "stdout",
          "text": [
            "Overwriting max_pairwise_product_extremely_efficient_stress100.cpp\n"
          ]
        }
      ]
    },
    {
      "cell_type": "code",
      "source": [
        "!g++ max_pairwise_product_extremely_efficient_stress100.cpp -o max_pairwise_product_extremely_efficient_stress100\n",
        "!./max_pairwise_product_extremely_efficient_stress100"
      ],
      "metadata": {
        "colab": {
          "base_uri": "https://localhost:8080/"
        },
        "id": "Dxg2Q5NUOW8n",
        "outputId": "2d97f183-2456-42eb-f961-116b44fd6a3a"
      },
      "execution_count": null,
      "outputs": [
        {
          "output_type": "stream",
          "name": "stdout",
          "text": [
            "Pass\n"
          ]
        }
      ]
    },
    {
      "cell_type": "code",
      "source": [
        "%%writefile ran100Tests.py\n",
        "import random\n",
        "\n",
        "def largest_numbers(numbers):\n",
        "    largest = float('-inf')\n",
        "    second_largest = float('-inf')\n",
        "\n",
        "    for num in numbers:\n",
        "        if num > largest:\n",
        "            second_largest = largest\n",
        "            largest = num\n",
        "        elif num > second_largest:\n",
        "            second_largest = num\n",
        "\n",
        "    return largest, second_largest\n",
        "\n",
        "def main():\n",
        "    for test in range(100):\n",
        "        n = random.randint(1, 1000)\n",
        "        numbers = [random.randint(0, 9999) for _ in range(n)]\n",
        "\n",
        "        # Ejecuta la solución T(n) < 10n = O(n)\n",
        "        result1 = largest_numbers(numbers)\n",
        "\n",
        "        # Ejecuta la solución T(n) = O(n*log(n))\n",
        "        sorted_numbers = sorted(numbers)\n",
        "        result2 = sorted_numbers[-1] * sorted_numbers[-2]\n",
        "\n",
        "        # Compara los resultados\n",
        "        if result1[0] * result1[1] != result2:\n",
        "            print(f\"Test {test + 1} FAILED\")\n",
        "            break\n",
        "\n",
        "        print(f\"Test {test + 1} PASSED\")\n",
        "\n",
        "if __name__ == \"__main__\":\n",
        "    main()"
      ],
      "metadata": {
        "id": "Yie8e0ly7Sqz"
      },
      "execution_count": null,
      "outputs": []
    },
    {
      "cell_type": "code",
      "source": [
        "!python ran100Tests.py"
      ],
      "metadata": {
        "id": "ii4roXFa7UmU"
      },
      "execution_count": null,
      "outputs": []
    }
  ],
  "metadata": {
    "colab": {
      "provenance": [],
      "include_colab_link": true
    },
    "kernelspec": {
      "display_name": "Python 3",
      "name": "python3"
    },
    "language_info": {
      "name": "python"
    }
  },
  "nbformat": 4,
  "nbformat_minor": 0
}