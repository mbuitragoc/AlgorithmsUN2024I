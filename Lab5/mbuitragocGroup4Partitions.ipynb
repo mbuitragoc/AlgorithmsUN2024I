{
  "nbformat": 4,
  "nbformat_minor": 0,
  "metadata": {
    "colab": {
      "provenance": [],
      "include_colab_link": true
    },
    "kernelspec": {
      "name": "python3",
      "display_name": "Python 3"
    },
    "language_info": {
      "name": "python"
    }
  },
  "cells": [
    {
      "cell_type": "markdown",
      "metadata": {
        "id": "view-in-github",
        "colab_type": "text"
      },
      "source": [
        "<a href=\"https://colab.research.google.com/github/mbuitragoc/AlgorithmsUN2024I/blob/main/Lab5/mbuitragocGroup4Partitions.ipynb\" target=\"_parent\"><img src=\"https://colab.research.google.com/assets/colab-badge.svg\" alt=\"Open In Colab\"/></a>"
      ]
    },
    {
      "cell_type": "markdown",
      "source": [
        "# **Partitions**\n",
        "\n",
        "## **Names:** Miguel Angel Buitrago Castillo\n",
        "## **UN Ids:** mbuitragoc,\n",
        "## **List numbers:** 4,\n",
        "## **Group :** 4\n",
        "\n",
        "_If you use an existing codes include the reference, link and a explanation of how the code works._"
      ],
      "metadata": {
        "id": "138HHQxvs_U7"
      }
    },
    {
      "cell_type": "markdown",
      "source": [
        "## 1. Write a code that produces the Bell numbers that count the possible partitions of a set fo $n$ elements.\n",
        "\n",
        "**Hints**:\n",
        "-  Output the n-th Bell Number - [stackexchange](https://codegolf.stackexchange.com/questions/132379/output-the-n-th-bell-number).\n",
        "\n",
        "- Bell number [wikipedia](https://en.wikipedia.org/wiki/Bell_number)\n",
        "\n",
        "\n",
        "\n",
        "\n"
      ],
      "metadata": {
        "id": "rdu7PcWttfnz"
      }
    },
    {
      "cell_type": "code",
      "source": [
        "def bell(n):\n",
        "  # Crear un array en dos dimensiones para guardar el triangulo de bell\n",
        "  bell_triangle = [[0 for i in range(n+1)] for j in range(n+1)]\n",
        "\n",
        "  bell_triangle[0][0] = 1\n",
        "\n",
        "  for i in range(1, n+1):\n",
        "      # Colocar el ultimo valor de la fila anterior al principio de la fila\n",
        "      bell_triangle[i][0] = bell_triangle[i-1][i-1]\n",
        "\n",
        "      for j in range(1, i+1):\n",
        "          bell_triangle[i][j] = bell_triangle[i-1][j-1] + bell_triangle[i][j-1]\n",
        "\n",
        "  # El n-ecimo numero de bell, es el primer numero de la n-ecima fila\n",
        "  return bell_triangle[n][0]"
      ],
      "metadata": {
        "id": "WNo88vvfDFBn"
      },
      "execution_count": null,
      "outputs": []
    },
    {
      "cell_type": "code",
      "source": [
        "for i in range(15):\n",
        "    print(f\"B({i}) = {bell(i)}\")"
      ],
      "metadata": {
        "colab": {
          "base_uri": "https://localhost:8080/"
        },
        "id": "oNsCX1rCJRKZ",
        "outputId": "dccbbc98-a111-4552-c360-562095d5eac7"
      },
      "execution_count": null,
      "outputs": [
        {
          "output_type": "stream",
          "name": "stdout",
          "text": [
            "B(0) = 1\n",
            "B(1) = 1\n",
            "B(2) = 2\n",
            "B(3) = 5\n",
            "B(4) = 15\n",
            "B(5) = 52\n",
            "B(6) = 203\n",
            "B(7) = 877\n",
            "B(8) = 4140\n",
            "B(9) = 21147\n",
            "B(10) = 115975\n",
            "B(11) = 678570\n",
            "B(12) = 4213597\n",
            "B(13) = 27644437\n",
            "B(14) = 190899322\n"
          ]
        }
      ]
    },
    {
      "cell_type": "markdown",
      "source": [
        "## 2.Write a code that that produces the list of all partititions of the set of $[n]=\\{ 1,2,3,4 \\cdots , n-1, n\\}$ with $0 \\le n \\le 10$.\n",
        "\n",
        "**Hints**:\n",
        "- Set partitions in Python - https://stackoverflow.com/questions/19368375/set-partitions-in-python\n",
        "- Generate all partition of a set - https://www.geeksforgeeks.org/generate-all-partition-of-a-set/"
      ],
      "metadata": {
        "id": "vSafufOkvDht"
      }
    },
    {
      "cell_type": "markdown",
      "source": [
        "\n",
        "1.   partitions(set_) Function:\n",
        "\n",
        "  * **Base Case**: If the set is empty, yield an empty list as the only partition.\n",
        "  * **Recursive Case**: For each element (first) of the set, recursively generate all partitions of the rest of the set (set_[1:]).\n",
        "  * For each partition of the rest of the set:\n",
        "      * Insert first into each subset of the partition.\n",
        "      * Additionally, create a new partition with first as a new subset.\n",
        "2. partitions(n) Function:\n",
        "\n",
        "  * Generates all partitions set {1,2,…,n}.\n",
        "  * Uses the partition function to generate all the partitions of the set"
      ],
      "metadata": {
        "id": "oW_nY4aKNzNh"
      }
    },
    {
      "cell_type": "code",
      "source": [
        "def partitions(n):\n",
        "  def partitions(set_):\n",
        "    if not set_:\n",
        "        yield []\n",
        "        return\n",
        "\n",
        "    first = set_[0]\n",
        "    for smaller in partitions(set_[1:]):\n",
        "        # Insert first into each subset of the partition\n",
        "        for n, subset in enumerate(smaller):\n",
        "            new_subset = smaller[:n] + [[first] + subset] + smaller[n+1:]\n",
        "            yield new_subset\n",
        "        # Create a new partition with first as a new subset\n",
        "        yield [[first]] + smaller\n",
        "  if n == 0:\n",
        "      return [[]]\n",
        "  set_ = list(range(1, n + 1))\n",
        "  return list(partitions(set_))"
      ],
      "metadata": {
        "id": "CMt1xuAZEbwv"
      },
      "execution_count": null,
      "outputs": []
    },
    {
      "cell_type": "code",
      "source": [
        "n = 3\n",
        "partition_list = partitions(n)\n",
        "formatted_partitions = [str([set(part) for part in partition]) for partition in partition_list]\n",
        "\n",
        "print(f\"Partitions of set {{1, 2, ..., {n}}}:\")\n",
        "for partition in formatted_partitions:\n",
        "    print(partition)"
      ],
      "metadata": {
        "colab": {
          "base_uri": "https://localhost:8080/"
        },
        "id": "diGq_hQ_NgJF",
        "outputId": "fd9c5aea-b0b6-4946-dcd2-7d3899703190"
      },
      "execution_count": null,
      "outputs": [
        {
          "output_type": "stream",
          "name": "stdout",
          "text": [
            "Partitions of set {1, 2, ..., 3}:\n",
            "[{1, 2, 3}]\n",
            "[{1}, {2, 3}]\n",
            "[{1, 2}, {3}]\n",
            "[{2}, {1, 3}]\n",
            "[{1}, {2}, {3}]\n"
          ]
        }
      ]
    },
    {
      "cell_type": "markdown",
      "source": [
        "## 3. Write a code that produces the list of all partititions of the set of $[n]=\\{ 1,2,3,4\\cdots , n-1, n\\}$ with $0 \\le n \\le 10$ and the sum of elements of the partition which is the a constant $\\frac{n(n+1)}{2}$."
      ],
      "metadata": {
        "id": "6lXHDPmHCZ15"
      }
    },
    {
      "cell_type": "markdown",
      "source": [
        "1. `partitions(set_)` Function:\n",
        "  * Generates all possible partitions of the given set recursively.\n",
        "  * For each element in the set, recursively generate partitions of the rest of the set.\n",
        "  * Insert the element into each subset of the partition or create a new subset with that element.\n",
        "\n",
        "2. `all_partitions(n)` Function:\n",
        "  * Generates all partitions of the set $\\{1,2,...,n\\}$ using `partitions`.\n",
        "\n",
        "3. `valid_partition(partitions, target_sum)` Function:\n",
        "  * Checks if each subset in a partition has a sum equal to the target sum\n",
        "\n",
        "4. `partitions_sum(n)` Function:\n",
        "  * Computes the target sum for each subset which is $\\frac{n(n+1)}{2}$.\n",
        "  * Generates all partitions and filter them using the `valid_partition` function to ensure each subset's sum is equal to the target\n",
        "\n"
      ],
      "metadata": {
        "id": "d6PBAZ2aRrhT"
      }
    },
    {
      "cell_type": "code",
      "source": [
        "def partitions_sum(n):\n",
        "  def partitions(set_):\n",
        "    if not set_:\n",
        "        yield []\n",
        "        return\n",
        "\n",
        "    first = set_[0]\n",
        "    for smaller in partitions(set_[1:]):\n",
        "        # Insert first into each subset of the partition\n",
        "        for n, subset in enumerate(smaller):\n",
        "            new_subset = smaller[:n] + [[first] + subset] + smaller[n+1:]\n",
        "            yield new_subset\n",
        "        # Create a new partition with first as a new subset\n",
        "        yield [[first]] + smaller\n",
        "\n",
        "  def all_partitions(n):\n",
        "    if n == 0:\n",
        "        return [[]]\n",
        "    set_ = list(range(1, n + 1))\n",
        "    return list(partitions(set_))\n",
        "\n",
        "  def valid_partition(partition, target_sum):\n",
        "    return all(sum(subset) == target_sum for subset in partition)\n",
        "\n",
        "  if n == 0:\n",
        "      return [[[]]]\n",
        "  target_sum = n * (n + 1) // 2\n",
        "  all_parts = all_partitions(n)\n",
        "  return [part for part in all_parts if valid_partition(part, target_sum)]"
      ],
      "metadata": {
        "id": "bahIxhWdtfJG"
      },
      "execution_count": null,
      "outputs": []
    },
    {
      "cell_type": "code",
      "source": [
        "for n in range(1,11):\n",
        "  partition_list = partitions_sum(n)\n",
        "  formatted_partitions = [str([set(part) for part in partition]) for partition in partition_list]\n",
        "\n",
        "  print(f\"Partitions of set {{1, 2, ..., {n}}} with each subset summing to {n * (n + 1) // 2}:\")\n",
        "  for partition in formatted_partitions:\n",
        "      print(partition)\n"
      ],
      "metadata": {
        "colab": {
          "base_uri": "https://localhost:8080/"
        },
        "id": "c4pfs3ZdQZod",
        "outputId": "a3ade10a-ba81-4703-89a7-5a3b76b18dc4"
      },
      "execution_count": null,
      "outputs": [
        {
          "output_type": "stream",
          "name": "stdout",
          "text": [
            "Partitions of set {1, 2, ..., 1} with each subset summing to 1:\n",
            "[{1}]\n",
            "Partitions of set {1, 2, ..., 2} with each subset summing to 3:\n",
            "[{1, 2}]\n",
            "Partitions of set {1, 2, ..., 3} with each subset summing to 6:\n",
            "[{1, 2, 3}]\n",
            "Partitions of set {1, 2, ..., 4} with each subset summing to 10:\n",
            "[{1, 2, 3, 4}]\n",
            "Partitions of set {1, 2, ..., 5} with each subset summing to 15:\n",
            "[{1, 2, 3, 4, 5}]\n",
            "Partitions of set {1, 2, ..., 6} with each subset summing to 21:\n",
            "[{1, 2, 3, 4, 5, 6}]\n",
            "Partitions of set {1, 2, ..., 7} with each subset summing to 28:\n",
            "[{1, 2, 3, 4, 5, 6, 7}]\n",
            "Partitions of set {1, 2, ..., 8} with each subset summing to 36:\n",
            "[{1, 2, 3, 4, 5, 6, 7, 8}]\n",
            "Partitions of set {1, 2, ..., 9} with each subset summing to 45:\n",
            "[{1, 2, 3, 4, 5, 6, 7, 8, 9}]\n",
            "Partitions of set {1, 2, ..., 10} with each subset summing to 55:\n",
            "[{1, 2, 3, 4, 5, 6, 7, 8, 9, 10}]\n"
          ]
        }
      ]
    }
  ]
}